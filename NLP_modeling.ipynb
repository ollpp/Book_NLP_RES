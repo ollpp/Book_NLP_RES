{
  "cells": [
    {
      "cell_type": "code",
      "execution_count": 2,
      "metadata": {
        "id": "SegJ5QAWNTuP",
        "colab": {
          "base_uri": "https://localhost:8080/"
        },
        "outputId": "de18f58c-8e57-4256-ffc0-f6397ed38f6d"
      },
      "outputs": [
        {
          "output_type": "stream",
          "name": "stdout",
          "text": [
            "Installing collected packages: sacremoses\n",
            "Successfully installed sacremoses-0.0.53\n"
          ]
        }
      ],
      "source": [
        "# 사전 download 받아야하는 module\n",
        "!pip install sentence_transformers\n",
        "!pip install konlpy\n",
        "!pip install transformers\n",
        "!pip install sentencepiece\n",
        "!pip install sacremoses"
      ]
    },
    {
      "cell_type": "code",
      "execution_count": 3,
      "metadata": {
        "id": "4NnH3d3PZrs9"
      },
      "outputs": [],
      "source": [
        "import pandas as pd\n",
        "import numpy as np\n",
        "import itertools\n",
        "\n",
        "# KeyBert 관련 import\n",
        "from konlpy.tag import Okt\n",
        "from sklearn.feature_extraction.text import CountVectorizer\n",
        "from sklearn.metrics.pairwise import cosine_similarity\n",
        "from sentence_transformers import SentenceTransformer\n",
        "\n",
        "# 감정분석을 위한 impmort\n",
        "from tqdm import tqdm\n",
        "import os\n",
        "import re\n",
        "from transformers import *\n",
        "import tensorflow as tf\n",
        "import json"
      ]
    },
    {
      "cell_type": "code",
      "execution_count": 4,
      "metadata": {
        "colab": {
          "base_uri": "https://localhost:8080/"
        },
        "id": "7o4-qA7bMfh6",
        "outputId": "ba981ddf-bcc9-44f6-b674-933343f8a358"
      },
      "outputs": [
        {
          "output_type": "stream",
          "name": "stdout",
          "text": [
            "Mounted at /content/drive\n"
          ]
        }
      ],
      "source": [
        "from google.colab import drive\n",
        "drive.mount('/content/drive')"
      ]
    },
    {
      "cell_type": "markdown",
      "source": [
        "# 키워드 추출"
      ],
      "metadata": {
        "id": "QTJtmPZPZNM7"
      }
    },
    {
      "cell_type": "markdown",
      "source": [
        "## 1. 전처리"
      ],
      "metadata": {
        "id": "z_RIEWgmZRGW"
      }
    },
    {
      "cell_type": "code",
      "execution_count": 39,
      "metadata": {
        "id": "2UYyceiyLXgI"
      },
      "outputs": [],
      "source": [
        "# 크롤링한 book data 불러오기\n",
        "\n",
        "data = pd.read_csv('/content/drive/MyDrive/code_states/cp1/book_table.csv', encoding = 'UTF-8')"
      ]
    },
    {
      "cell_type": "code",
      "execution_count": 40,
      "metadata": {
        "colab": {
          "base_uri": "https://localhost:8080/",
          "height": 206
        },
        "id": "RcjB2cBzLkl9",
        "outputId": "988def1d-d7e8-4f81-9a44-226a3bf417a6"
      },
      "outputs": [
        {
          "output_type": "execute_result",
          "data": {
            "text/plain": [
              "            isbn    item_id  category                      title     author  \\\n",
              "0  9791191825435  294902251  가정/요리/뷰티  맛있어서 지속 가능한 디디미니 다이어트 레시피  미니 박지우 지음   \n",
              "1  9791192107608  285827577  가정/요리/뷰티                열두 달 향신료 카레     김민지 지음   \n",
              "2  9791164261840  295216320  가정/요리/뷰티                  페이스트리 테이블     박성채 지음   \n",
              "3  9791138323284  296057122  가정/요리/뷰티           소워니놀이터의 말랑말랑 스퀴시     조윤성 지음   \n",
              "4  9791140700233  296633531  가정/요리/뷰티         맛있는 게 좋아서 양조절 다이어트     한아름 지음   \n",
              "\n",
              "  publisher      p_date  price  page  avg_score  \\\n",
              "0       빅피시  2022-05-23  16920   296       10.0   \n",
              "1      세미콜론  2022-06-20  18000   224        0.0   \n",
              "2      더테이블  2022-05-30  28800   256       10.0   \n",
              "3       시대인  2022-07-05  18000   194        0.0   \n",
              "4        길벗  2022-06-22  16650   228        9.8   \n",
              "\n",
              "                                         description  \n",
              "0  매년 수만 개의 감량 후기가 잇따르는 고단백 요리로 수많은 다이어터의 찬사를 받고 ...  \n",
              "1  커다란 간판 없이도 사람들이 모여드는 서울 최고의 카레 성지. 오직 ‘향신료 카레’...  \n",
              "2  디저트 카페 창업을 위한 레시피 & 컨설팅 북. 디저트 카페를 운영하는 데 있어 가...  \n",
              "3  기존의 종이놀이를 뛰어넘어 도안과 도안 사이에 솜을 넣어 말랑말랑하고 폭신폭신한 촉...  \n",
              "4  매일 습관만 바꿔도 15kg이 빠진다. 고기도 탄수화물도 디저트도 포기할 수 없는,...  "
            ],
            "text/html": [
              "\n",
              "  <div id=\"df-31507ce7-dafb-4b78-9b19-0f6fc175f6b6\">\n",
              "    <div class=\"colab-df-container\">\n",
              "      <div>\n",
              "<style scoped>\n",
              "    .dataframe tbody tr th:only-of-type {\n",
              "        vertical-align: middle;\n",
              "    }\n",
              "\n",
              "    .dataframe tbody tr th {\n",
              "        vertical-align: top;\n",
              "    }\n",
              "\n",
              "    .dataframe thead th {\n",
              "        text-align: right;\n",
              "    }\n",
              "</style>\n",
              "<table border=\"1\" class=\"dataframe\">\n",
              "  <thead>\n",
              "    <tr style=\"text-align: right;\">\n",
              "      <th></th>\n",
              "      <th>isbn</th>\n",
              "      <th>item_id</th>\n",
              "      <th>category</th>\n",
              "      <th>title</th>\n",
              "      <th>author</th>\n",
              "      <th>publisher</th>\n",
              "      <th>p_date</th>\n",
              "      <th>price</th>\n",
              "      <th>page</th>\n",
              "      <th>avg_score</th>\n",
              "      <th>description</th>\n",
              "    </tr>\n",
              "  </thead>\n",
              "  <tbody>\n",
              "    <tr>\n",
              "      <th>0</th>\n",
              "      <td>9791191825435</td>\n",
              "      <td>294902251</td>\n",
              "      <td>가정/요리/뷰티</td>\n",
              "      <td>맛있어서 지속 가능한 디디미니 다이어트 레시피</td>\n",
              "      <td>미니 박지우 지음</td>\n",
              "      <td>빅피시</td>\n",
              "      <td>2022-05-23</td>\n",
              "      <td>16920</td>\n",
              "      <td>296</td>\n",
              "      <td>10.0</td>\n",
              "      <td>매년 수만 개의 감량 후기가 잇따르는 고단백 요리로 수많은 다이어터의 찬사를 받고 ...</td>\n",
              "    </tr>\n",
              "    <tr>\n",
              "      <th>1</th>\n",
              "      <td>9791192107608</td>\n",
              "      <td>285827577</td>\n",
              "      <td>가정/요리/뷰티</td>\n",
              "      <td>열두 달 향신료 카레</td>\n",
              "      <td>김민지 지음</td>\n",
              "      <td>세미콜론</td>\n",
              "      <td>2022-06-20</td>\n",
              "      <td>18000</td>\n",
              "      <td>224</td>\n",
              "      <td>0.0</td>\n",
              "      <td>커다란 간판 없이도 사람들이 모여드는 서울 최고의 카레 성지. 오직 ‘향신료 카레’...</td>\n",
              "    </tr>\n",
              "    <tr>\n",
              "      <th>2</th>\n",
              "      <td>9791164261840</td>\n",
              "      <td>295216320</td>\n",
              "      <td>가정/요리/뷰티</td>\n",
              "      <td>페이스트리 테이블</td>\n",
              "      <td>박성채 지음</td>\n",
              "      <td>더테이블</td>\n",
              "      <td>2022-05-30</td>\n",
              "      <td>28800</td>\n",
              "      <td>256</td>\n",
              "      <td>10.0</td>\n",
              "      <td>디저트 카페 창업을 위한 레시피 &amp; 컨설팅 북. 디저트 카페를 운영하는 데 있어 가...</td>\n",
              "    </tr>\n",
              "    <tr>\n",
              "      <th>3</th>\n",
              "      <td>9791138323284</td>\n",
              "      <td>296057122</td>\n",
              "      <td>가정/요리/뷰티</td>\n",
              "      <td>소워니놀이터의 말랑말랑 스퀴시</td>\n",
              "      <td>조윤성 지음</td>\n",
              "      <td>시대인</td>\n",
              "      <td>2022-07-05</td>\n",
              "      <td>18000</td>\n",
              "      <td>194</td>\n",
              "      <td>0.0</td>\n",
              "      <td>기존의 종이놀이를 뛰어넘어 도안과 도안 사이에 솜을 넣어 말랑말랑하고 폭신폭신한 촉...</td>\n",
              "    </tr>\n",
              "    <tr>\n",
              "      <th>4</th>\n",
              "      <td>9791140700233</td>\n",
              "      <td>296633531</td>\n",
              "      <td>가정/요리/뷰티</td>\n",
              "      <td>맛있는 게 좋아서 양조절 다이어트</td>\n",
              "      <td>한아름 지음</td>\n",
              "      <td>길벗</td>\n",
              "      <td>2022-06-22</td>\n",
              "      <td>16650</td>\n",
              "      <td>228</td>\n",
              "      <td>9.8</td>\n",
              "      <td>매일 습관만 바꿔도 15kg이 빠진다. 고기도 탄수화물도 디저트도 포기할 수 없는,...</td>\n",
              "    </tr>\n",
              "  </tbody>\n",
              "</table>\n",
              "</div>\n",
              "      <button class=\"colab-df-convert\" onclick=\"convertToInteractive('df-31507ce7-dafb-4b78-9b19-0f6fc175f6b6')\"\n",
              "              title=\"Convert this dataframe to an interactive table.\"\n",
              "              style=\"display:none;\">\n",
              "        \n",
              "  <svg xmlns=\"http://www.w3.org/2000/svg\" height=\"24px\"viewBox=\"0 0 24 24\"\n",
              "       width=\"24px\">\n",
              "    <path d=\"M0 0h24v24H0V0z\" fill=\"none\"/>\n",
              "    <path d=\"M18.56 5.44l.94 2.06.94-2.06 2.06-.94-2.06-.94-.94-2.06-.94 2.06-2.06.94zm-11 1L8.5 8.5l.94-2.06 2.06-.94-2.06-.94L8.5 2.5l-.94 2.06-2.06.94zm10 10l.94 2.06.94-2.06 2.06-.94-2.06-.94-.94-2.06-.94 2.06-2.06.94z\"/><path d=\"M17.41 7.96l-1.37-1.37c-.4-.4-.92-.59-1.43-.59-.52 0-1.04.2-1.43.59L10.3 9.45l-7.72 7.72c-.78.78-.78 2.05 0 2.83L4 21.41c.39.39.9.59 1.41.59.51 0 1.02-.2 1.41-.59l7.78-7.78 2.81-2.81c.8-.78.8-2.07 0-2.86zM5.41 20L4 18.59l7.72-7.72 1.47 1.35L5.41 20z\"/>\n",
              "  </svg>\n",
              "      </button>\n",
              "      \n",
              "  <style>\n",
              "    .colab-df-container {\n",
              "      display:flex;\n",
              "      flex-wrap:wrap;\n",
              "      gap: 12px;\n",
              "    }\n",
              "\n",
              "    .colab-df-convert {\n",
              "      background-color: #E8F0FE;\n",
              "      border: none;\n",
              "      border-radius: 50%;\n",
              "      cursor: pointer;\n",
              "      display: none;\n",
              "      fill: #1967D2;\n",
              "      height: 32px;\n",
              "      padding: 0 0 0 0;\n",
              "      width: 32px;\n",
              "    }\n",
              "\n",
              "    .colab-df-convert:hover {\n",
              "      background-color: #E2EBFA;\n",
              "      box-shadow: 0px 1px 2px rgba(60, 64, 67, 0.3), 0px 1px 3px 1px rgba(60, 64, 67, 0.15);\n",
              "      fill: #174EA6;\n",
              "    }\n",
              "\n",
              "    [theme=dark] .colab-df-convert {\n",
              "      background-color: #3B4455;\n",
              "      fill: #D2E3FC;\n",
              "    }\n",
              "\n",
              "    [theme=dark] .colab-df-convert:hover {\n",
              "      background-color: #434B5C;\n",
              "      box-shadow: 0px 1px 3px 1px rgba(0, 0, 0, 0.15);\n",
              "      filter: drop-shadow(0px 1px 2px rgba(0, 0, 0, 0.3));\n",
              "      fill: #FFFFFF;\n",
              "    }\n",
              "  </style>\n",
              "\n",
              "      <script>\n",
              "        const buttonEl =\n",
              "          document.querySelector('#df-31507ce7-dafb-4b78-9b19-0f6fc175f6b6 button.colab-df-convert');\n",
              "        buttonEl.style.display =\n",
              "          google.colab.kernel.accessAllowed ? 'block' : 'none';\n",
              "\n",
              "        async function convertToInteractive(key) {\n",
              "          const element = document.querySelector('#df-31507ce7-dafb-4b78-9b19-0f6fc175f6b6');\n",
              "          const dataTable =\n",
              "            await google.colab.kernel.invokeFunction('convertToInteractive',\n",
              "                                                     [key], {});\n",
              "          if (!dataTable) return;\n",
              "\n",
              "          const docLinkHtml = 'Like what you see? Visit the ' +\n",
              "            '<a target=\"_blank\" href=https://colab.research.google.com/notebooks/data_table.ipynb>data table notebook</a>'\n",
              "            + ' to learn more about interactive tables.';\n",
              "          element.innerHTML = '';\n",
              "          dataTable['output_type'] = 'display_data';\n",
              "          await google.colab.output.renderOutput(dataTable, element);\n",
              "          const docLink = document.createElement('div');\n",
              "          docLink.innerHTML = docLinkHtml;\n",
              "          element.appendChild(docLink);\n",
              "        }\n",
              "      </script>\n",
              "    </div>\n",
              "  </div>\n",
              "  "
            ]
          },
          "metadata": {},
          "execution_count": 40
        }
      ],
      "source": [
        "data.head()"
      ]
    },
    {
      "cell_type": "code",
      "source": [
        "len(data)"
      ],
      "metadata": {
        "colab": {
          "base_uri": "https://localhost:8080/"
        },
        "id": "QF8oNJ36lpsw",
        "outputId": "e3e43804-9f89-4560-c603-44ae0c92ff67"
      },
      "execution_count": 41,
      "outputs": [
        {
          "output_type": "execute_result",
          "data": {
            "text/plain": [
              "3090"
            ]
          },
          "metadata": {},
          "execution_count": 41
        }
      ]
    },
    {
      "cell_type": "code",
      "execution_count": 42,
      "metadata": {
        "id": "tqP7anyCu_Er"
      },
      "outputs": [],
      "source": [
        "# 결측치 제거해주기\n",
        "\n",
        "data = data.dropna(axis=0)"
      ]
    },
    {
      "cell_type": "code",
      "source": [
        "len(data)"
      ],
      "metadata": {
        "colab": {
          "base_uri": "https://localhost:8080/"
        },
        "id": "PUK_fMZXWgd0",
        "outputId": "b171c22a-5dad-4e98-bc6d-ca3df5de88d9"
      },
      "execution_count": 43,
      "outputs": [
        {
          "output_type": "execute_result",
          "data": {
            "text/plain": [
              "2955"
            ]
          },
          "metadata": {},
          "execution_count": 43
        }
      ]
    },
    {
      "cell_type": "code",
      "source": [
        "# 전처리\n",
        "\n",
        "drop_data = data[~data['author'].str.contains('지음')]\n",
        "drop_data = drop_data[~drop_data['author'].str.contains('엮음')]\n",
        "drop_data = drop_data[~drop_data['author'].str.contains('글')]\n",
        "drop_data = drop_data[~drop_data['author'].str.contains('그림')]\n",
        "drop_data = drop_data[~drop_data['author'].str.contains('저자')]\n",
        "drop_data = drop_data[~drop_data['author'].str.contains('원작')]\n",
        "data.drop(index=drop_data.index, inplace=True)\n",
        "data.drop(index=data[data['category']=='전집/중고전집'].index, inplace=True)\n",
        "def writer(str):\n",
        "    words = ['엮음', '글', '그림', '저자', '원작']\n",
        "    for word in words:\n",
        "        str = str.replace(word, '지음')\n",
        "    str = str.split('지음')[0].strip()\n",
        "    str = str.split('외')[0].strip()\n",
        "    str = re.sub(r'[A-Z]+.', '', str)\n",
        "    str = str.replace('.', ', ')\n",
        "    str = str.replace('(', ', ')\n",
        "    str = str.replace(')', ', ')\n",
        "    return str\n",
        "data['author'] = data['author'].apply(lambda x: writer(x))\n",
        "data.drop(index=data[data['author']==''].index, inplace=True) "
      ],
      "metadata": {
        "id": "BQ2PlPkJjV8z"
      },
      "execution_count": 44,
      "outputs": []
    },
    {
      "cell_type": "code",
      "source": [
        "len(data)"
      ],
      "metadata": {
        "colab": {
          "base_uri": "https://localhost:8080/"
        },
        "id": "oL9GwifenEAX",
        "outputId": "95045cc9-4e07-4f00-bd1f-69c453a43c54"
      },
      "execution_count": 45,
      "outputs": [
        {
          "output_type": "execute_result",
          "data": {
            "text/plain": [
              "2916"
            ]
          },
          "metadata": {},
          "execution_count": 45
        }
      ]
    },
    {
      "cell_type": "code",
      "source": [
        "import re\n",
        "\n",
        "def del_re(doc):\n",
        "    myStr = re.sub('[^ㄱ-힗]', '', doc)\n",
        "    return myStr\n",
        "\n",
        "for i in tqdm(range(1)):\n",
        "    data['description'] = data['description'].apply(del_re)"
      ],
      "metadata": {
        "colab": {
          "base_uri": "https://localhost:8080/"
        },
        "id": "eMWaED-rTSnR",
        "outputId": "b1ea193a-c30c-4ced-b5bf-9d5032714dbd"
      },
      "execution_count": 46,
      "outputs": [
        {
          "output_type": "stream",
          "name": "stderr",
          "text": [
            "100%|██████████| 1/1 [00:00<00:00, 13.06it/s]\n"
          ]
        }
      ]
    },
    {
      "cell_type": "code",
      "source": [
        "len(data)"
      ],
      "metadata": {
        "colab": {
          "base_uri": "https://localhost:8080/"
        },
        "id": "LSICjD61nvVr",
        "outputId": "e6077cba-135e-4919-ae3c-9fafac19136c"
      },
      "execution_count": 47,
      "outputs": [
        {
          "output_type": "execute_result",
          "data": {
            "text/plain": [
              "2916"
            ]
          },
          "metadata": {},
          "execution_count": 47
        }
      ]
    },
    {
      "cell_type": "code",
      "execution_count": 50,
      "metadata": {
        "id": "bUQjxh8z-qjV"
      },
      "outputs": [],
      "source": [
        "# 책의 의미를 담지 못하는 description 제외\n",
        "\n",
        "def chk_doc(doc):\n",
        "    if len(doc) < 53:\n",
        "        return 1\n",
        "    else :\n",
        "        return 0"
      ]
    },
    {
      "cell_type": "code",
      "execution_count": 51,
      "metadata": {
        "id": "amVB-3w1_YLn"
      },
      "outputs": [],
      "source": [
        "data['chk'] = data['description'].apply(chk_doc)"
      ]
    },
    {
      "cell_type": "code",
      "execution_count": 52,
      "metadata": {
        "id": "mXMQM5InARHf"
      },
      "outputs": [],
      "source": [
        "mask_2 = (data['chk']==1)\n",
        "data = data[~mask_2]"
      ]
    },
    {
      "cell_type": "code",
      "source": [
        "len(data)"
      ],
      "metadata": {
        "colab": {
          "base_uri": "https://localhost:8080/"
        },
        "id": "ToeMifooXweu",
        "outputId": "3ac255f4-03f5-4bc8-ccf8-ff4d07ca0910"
      },
      "execution_count": 53,
      "outputs": [
        {
          "output_type": "execute_result",
          "data": {
            "text/plain": [
              "2802"
            ]
          },
          "metadata": {},
          "execution_count": 53
        }
      ]
    },
    {
      "cell_type": "code",
      "execution_count": 54,
      "metadata": {
        "colab": {
          "base_uri": "https://localhost:8080/",
          "height": 423
        },
        "id": "QsUgAyjV_e90",
        "outputId": "cd105242-ab77-4cd6-e34f-5dfff43ecb93"
      },
      "outputs": [
        {
          "output_type": "execute_result",
          "data": {
            "text/plain": [
              "               isbn    item_id  category                      title  author  \\\n",
              "0     9791191825435  294902251  가정/요리/뷰티  맛있어서 지속 가능한 디디미니 다이어트 레시피  미니 박지우   \n",
              "1     9791192107608  285827577  가정/요리/뷰티                열두 달 향신료 카레     김민지   \n",
              "2     9791164261840  295216320  가정/요리/뷰티                  페이스트리 테이블     박성채   \n",
              "3     9791138323284  296057122  가정/요리/뷰티           소워니놀이터의 말랑말랑 스퀴시     조윤성   \n",
              "4     9791140700233  296633531  가정/요리/뷰티         맛있는 게 좋아서 양조절 다이어트     한아름   \n",
              "...             ...        ...       ...                        ...     ...   \n",
              "2797  9788952227829   35029230     로맨스소설                     미 비포 유  조조 모예스   \n",
              "2798  9788952766441   18593792     로맨스소설            그레이의 50가지 그림자 1     제임스   \n",
              "2799  9791189604110  244280066     로맨스소설                        상견니    지엔치펑   \n",
              "2800  9791135475832  290418968     로맨스소설                 나쁜 생각이 들어서     요안나   \n",
              "2801  9791130620879  183713941     로맨스소설                   시간의 계단 2     주영하   \n",
              "\n",
              "     publisher      p_date  price  page  avg_score  \\\n",
              "0          빅피시  2022-05-23  16920   296       10.0   \n",
              "1         세미콜론  2022-06-20  18000   224        0.0   \n",
              "2         더테이블  2022-05-30  28800   256       10.0   \n",
              "3          시대인  2022-07-05  18000   194        0.0   \n",
              "4           길벗  2022-06-22  16650   228        9.8   \n",
              "...        ...         ...    ...   ...        ...   \n",
              "2797        살림  2013-12-24  13500   536        8.9   \n",
              "2798       시공사  2012-08-08  10800   416        6.8   \n",
              "2799      리플레이  2020-07-14  14220   432        9.8   \n",
              "2800       로코코  2022-03-17  12150   560        9.9   \n",
              "2801       블라썸  2019-02-20  12420   280       10.0   \n",
              "\n",
              "                                            description  chk  \n",
              "0     매년수만개의감량후기가잇따르는고단백요리로수많은다이어터의찬사를받고있는디디미니가올해도어김...    0  \n",
              "1     커다란간판없이도사람들이모여드는서울최고의카레성지오직향신료카레하나만을먹기위해웨이팅도불사...    0  \n",
              "2     디저트카페창업을위한레시피컨설팅북디저트카페를운영하는데있어가장기본이되는핵심메뉴그리고크림...    0  \n",
              "3     기존의종이놀이를뛰어넘어도안과도안사이에솜을넣어말랑말랑하고폭신폭신한촉감의스퀴시를만들수있...    0  \n",
              "4     매일습관만바꿔도이빠진다고기도탄수화물도디저트도포기할수없는맛있는게너무좋은다이어터들에게딱...    0  \n",
              "...                                                 ...  ...  \n",
              "2797  영국에서입소문만으로최고의베스트셀러가되고이후출간된독일에서는밀리언셀러로서엄청난판매량을기...    0  \n",
              "2798  년월미국순문학출판사인랜덤하우스빈티지는그레이의가지그림자가출간석달만에시리즈포함총천백만부...    0  \n",
              "2799  년대만최고의화제작드라마소설죽은남자친구왕취안성에대한그리움을떨치지못한황위쉬안은이세계의또...    0  \n",
              "2800  요안나장편소설졸지에거액의빚과생면부지의어린이복동생이생긴서희학교선배이자금융그룹의대표서지...    0  \n",
              "2801  주영하장편소설현실에찌든살의은행원이연아어느날끔찍한기억만남은고등학교에우연히방문한그녀는존...    0  \n",
              "\n",
              "[2802 rows x 12 columns]"
            ],
            "text/html": [
              "\n",
              "  <div id=\"df-72264c2f-9880-479a-8413-2a0e29dc34e8\">\n",
              "    <div class=\"colab-df-container\">\n",
              "      <div>\n",
              "<style scoped>\n",
              "    .dataframe tbody tr th:only-of-type {\n",
              "        vertical-align: middle;\n",
              "    }\n",
              "\n",
              "    .dataframe tbody tr th {\n",
              "        vertical-align: top;\n",
              "    }\n",
              "\n",
              "    .dataframe thead th {\n",
              "        text-align: right;\n",
              "    }\n",
              "</style>\n",
              "<table border=\"1\" class=\"dataframe\">\n",
              "  <thead>\n",
              "    <tr style=\"text-align: right;\">\n",
              "      <th></th>\n",
              "      <th>isbn</th>\n",
              "      <th>item_id</th>\n",
              "      <th>category</th>\n",
              "      <th>title</th>\n",
              "      <th>author</th>\n",
              "      <th>publisher</th>\n",
              "      <th>p_date</th>\n",
              "      <th>price</th>\n",
              "      <th>page</th>\n",
              "      <th>avg_score</th>\n",
              "      <th>description</th>\n",
              "      <th>chk</th>\n",
              "    </tr>\n",
              "  </thead>\n",
              "  <tbody>\n",
              "    <tr>\n",
              "      <th>0</th>\n",
              "      <td>9791191825435</td>\n",
              "      <td>294902251</td>\n",
              "      <td>가정/요리/뷰티</td>\n",
              "      <td>맛있어서 지속 가능한 디디미니 다이어트 레시피</td>\n",
              "      <td>미니 박지우</td>\n",
              "      <td>빅피시</td>\n",
              "      <td>2022-05-23</td>\n",
              "      <td>16920</td>\n",
              "      <td>296</td>\n",
              "      <td>10.0</td>\n",
              "      <td>매년수만개의감량후기가잇따르는고단백요리로수많은다이어터의찬사를받고있는디디미니가올해도어김...</td>\n",
              "      <td>0</td>\n",
              "    </tr>\n",
              "    <tr>\n",
              "      <th>1</th>\n",
              "      <td>9791192107608</td>\n",
              "      <td>285827577</td>\n",
              "      <td>가정/요리/뷰티</td>\n",
              "      <td>열두 달 향신료 카레</td>\n",
              "      <td>김민지</td>\n",
              "      <td>세미콜론</td>\n",
              "      <td>2022-06-20</td>\n",
              "      <td>18000</td>\n",
              "      <td>224</td>\n",
              "      <td>0.0</td>\n",
              "      <td>커다란간판없이도사람들이모여드는서울최고의카레성지오직향신료카레하나만을먹기위해웨이팅도불사...</td>\n",
              "      <td>0</td>\n",
              "    </tr>\n",
              "    <tr>\n",
              "      <th>2</th>\n",
              "      <td>9791164261840</td>\n",
              "      <td>295216320</td>\n",
              "      <td>가정/요리/뷰티</td>\n",
              "      <td>페이스트리 테이블</td>\n",
              "      <td>박성채</td>\n",
              "      <td>더테이블</td>\n",
              "      <td>2022-05-30</td>\n",
              "      <td>28800</td>\n",
              "      <td>256</td>\n",
              "      <td>10.0</td>\n",
              "      <td>디저트카페창업을위한레시피컨설팅북디저트카페를운영하는데있어가장기본이되는핵심메뉴그리고크림...</td>\n",
              "      <td>0</td>\n",
              "    </tr>\n",
              "    <tr>\n",
              "      <th>3</th>\n",
              "      <td>9791138323284</td>\n",
              "      <td>296057122</td>\n",
              "      <td>가정/요리/뷰티</td>\n",
              "      <td>소워니놀이터의 말랑말랑 스퀴시</td>\n",
              "      <td>조윤성</td>\n",
              "      <td>시대인</td>\n",
              "      <td>2022-07-05</td>\n",
              "      <td>18000</td>\n",
              "      <td>194</td>\n",
              "      <td>0.0</td>\n",
              "      <td>기존의종이놀이를뛰어넘어도안과도안사이에솜을넣어말랑말랑하고폭신폭신한촉감의스퀴시를만들수있...</td>\n",
              "      <td>0</td>\n",
              "    </tr>\n",
              "    <tr>\n",
              "      <th>4</th>\n",
              "      <td>9791140700233</td>\n",
              "      <td>296633531</td>\n",
              "      <td>가정/요리/뷰티</td>\n",
              "      <td>맛있는 게 좋아서 양조절 다이어트</td>\n",
              "      <td>한아름</td>\n",
              "      <td>길벗</td>\n",
              "      <td>2022-06-22</td>\n",
              "      <td>16650</td>\n",
              "      <td>228</td>\n",
              "      <td>9.8</td>\n",
              "      <td>매일습관만바꿔도이빠진다고기도탄수화물도디저트도포기할수없는맛있는게너무좋은다이어터들에게딱...</td>\n",
              "      <td>0</td>\n",
              "    </tr>\n",
              "    <tr>\n",
              "      <th>...</th>\n",
              "      <td>...</td>\n",
              "      <td>...</td>\n",
              "      <td>...</td>\n",
              "      <td>...</td>\n",
              "      <td>...</td>\n",
              "      <td>...</td>\n",
              "      <td>...</td>\n",
              "      <td>...</td>\n",
              "      <td>...</td>\n",
              "      <td>...</td>\n",
              "      <td>...</td>\n",
              "      <td>...</td>\n",
              "    </tr>\n",
              "    <tr>\n",
              "      <th>2797</th>\n",
              "      <td>9788952227829</td>\n",
              "      <td>35029230</td>\n",
              "      <td>로맨스소설</td>\n",
              "      <td>미 비포 유</td>\n",
              "      <td>조조 모예스</td>\n",
              "      <td>살림</td>\n",
              "      <td>2013-12-24</td>\n",
              "      <td>13500</td>\n",
              "      <td>536</td>\n",
              "      <td>8.9</td>\n",
              "      <td>영국에서입소문만으로최고의베스트셀러가되고이후출간된독일에서는밀리언셀러로서엄청난판매량을기...</td>\n",
              "      <td>0</td>\n",
              "    </tr>\n",
              "    <tr>\n",
              "      <th>2798</th>\n",
              "      <td>9788952766441</td>\n",
              "      <td>18593792</td>\n",
              "      <td>로맨스소설</td>\n",
              "      <td>그레이의 50가지 그림자 1</td>\n",
              "      <td>제임스</td>\n",
              "      <td>시공사</td>\n",
              "      <td>2012-08-08</td>\n",
              "      <td>10800</td>\n",
              "      <td>416</td>\n",
              "      <td>6.8</td>\n",
              "      <td>년월미국순문학출판사인랜덤하우스빈티지는그레이의가지그림자가출간석달만에시리즈포함총천백만부...</td>\n",
              "      <td>0</td>\n",
              "    </tr>\n",
              "    <tr>\n",
              "      <th>2799</th>\n",
              "      <td>9791189604110</td>\n",
              "      <td>244280066</td>\n",
              "      <td>로맨스소설</td>\n",
              "      <td>상견니</td>\n",
              "      <td>지엔치펑</td>\n",
              "      <td>리플레이</td>\n",
              "      <td>2020-07-14</td>\n",
              "      <td>14220</td>\n",
              "      <td>432</td>\n",
              "      <td>9.8</td>\n",
              "      <td>년대만최고의화제작드라마소설죽은남자친구왕취안성에대한그리움을떨치지못한황위쉬안은이세계의또...</td>\n",
              "      <td>0</td>\n",
              "    </tr>\n",
              "    <tr>\n",
              "      <th>2800</th>\n",
              "      <td>9791135475832</td>\n",
              "      <td>290418968</td>\n",
              "      <td>로맨스소설</td>\n",
              "      <td>나쁜 생각이 들어서</td>\n",
              "      <td>요안나</td>\n",
              "      <td>로코코</td>\n",
              "      <td>2022-03-17</td>\n",
              "      <td>12150</td>\n",
              "      <td>560</td>\n",
              "      <td>9.9</td>\n",
              "      <td>요안나장편소설졸지에거액의빚과생면부지의어린이복동생이생긴서희학교선배이자금융그룹의대표서지...</td>\n",
              "      <td>0</td>\n",
              "    </tr>\n",
              "    <tr>\n",
              "      <th>2801</th>\n",
              "      <td>9791130620879</td>\n",
              "      <td>183713941</td>\n",
              "      <td>로맨스소설</td>\n",
              "      <td>시간의 계단 2</td>\n",
              "      <td>주영하</td>\n",
              "      <td>블라썸</td>\n",
              "      <td>2019-02-20</td>\n",
              "      <td>12420</td>\n",
              "      <td>280</td>\n",
              "      <td>10.0</td>\n",
              "      <td>주영하장편소설현실에찌든살의은행원이연아어느날끔찍한기억만남은고등학교에우연히방문한그녀는존...</td>\n",
              "      <td>0</td>\n",
              "    </tr>\n",
              "  </tbody>\n",
              "</table>\n",
              "<p>2802 rows × 12 columns</p>\n",
              "</div>\n",
              "      <button class=\"colab-df-convert\" onclick=\"convertToInteractive('df-72264c2f-9880-479a-8413-2a0e29dc34e8')\"\n",
              "              title=\"Convert this dataframe to an interactive table.\"\n",
              "              style=\"display:none;\">\n",
              "        \n",
              "  <svg xmlns=\"http://www.w3.org/2000/svg\" height=\"24px\"viewBox=\"0 0 24 24\"\n",
              "       width=\"24px\">\n",
              "    <path d=\"M0 0h24v24H0V0z\" fill=\"none\"/>\n",
              "    <path d=\"M18.56 5.44l.94 2.06.94-2.06 2.06-.94-2.06-.94-.94-2.06-.94 2.06-2.06.94zm-11 1L8.5 8.5l.94-2.06 2.06-.94-2.06-.94L8.5 2.5l-.94 2.06-2.06.94zm10 10l.94 2.06.94-2.06 2.06-.94-2.06-.94-.94-2.06-.94 2.06-2.06.94z\"/><path d=\"M17.41 7.96l-1.37-1.37c-.4-.4-.92-.59-1.43-.59-.52 0-1.04.2-1.43.59L10.3 9.45l-7.72 7.72c-.78.78-.78 2.05 0 2.83L4 21.41c.39.39.9.59 1.41.59.51 0 1.02-.2 1.41-.59l7.78-7.78 2.81-2.81c.8-.78.8-2.07 0-2.86zM5.41 20L4 18.59l7.72-7.72 1.47 1.35L5.41 20z\"/>\n",
              "  </svg>\n",
              "      </button>\n",
              "      \n",
              "  <style>\n",
              "    .colab-df-container {\n",
              "      display:flex;\n",
              "      flex-wrap:wrap;\n",
              "      gap: 12px;\n",
              "    }\n",
              "\n",
              "    .colab-df-convert {\n",
              "      background-color: #E8F0FE;\n",
              "      border: none;\n",
              "      border-radius: 50%;\n",
              "      cursor: pointer;\n",
              "      display: none;\n",
              "      fill: #1967D2;\n",
              "      height: 32px;\n",
              "      padding: 0 0 0 0;\n",
              "      width: 32px;\n",
              "    }\n",
              "\n",
              "    .colab-df-convert:hover {\n",
              "      background-color: #E2EBFA;\n",
              "      box-shadow: 0px 1px 2px rgba(60, 64, 67, 0.3), 0px 1px 3px 1px rgba(60, 64, 67, 0.15);\n",
              "      fill: #174EA6;\n",
              "    }\n",
              "\n",
              "    [theme=dark] .colab-df-convert {\n",
              "      background-color: #3B4455;\n",
              "      fill: #D2E3FC;\n",
              "    }\n",
              "\n",
              "    [theme=dark] .colab-df-convert:hover {\n",
              "      background-color: #434B5C;\n",
              "      box-shadow: 0px 1px 3px 1px rgba(0, 0, 0, 0.15);\n",
              "      filter: drop-shadow(0px 1px 2px rgba(0, 0, 0, 0.3));\n",
              "      fill: #FFFFFF;\n",
              "    }\n",
              "  </style>\n",
              "\n",
              "      <script>\n",
              "        const buttonEl =\n",
              "          document.querySelector('#df-72264c2f-9880-479a-8413-2a0e29dc34e8 button.colab-df-convert');\n",
              "        buttonEl.style.display =\n",
              "          google.colab.kernel.accessAllowed ? 'block' : 'none';\n",
              "\n",
              "        async function convertToInteractive(key) {\n",
              "          const element = document.querySelector('#df-72264c2f-9880-479a-8413-2a0e29dc34e8');\n",
              "          const dataTable =\n",
              "            await google.colab.kernel.invokeFunction('convertToInteractive',\n",
              "                                                     [key], {});\n",
              "          if (!dataTable) return;\n",
              "\n",
              "          const docLinkHtml = 'Like what you see? Visit the ' +\n",
              "            '<a target=\"_blank\" href=https://colab.research.google.com/notebooks/data_table.ipynb>data table notebook</a>'\n",
              "            + ' to learn more about interactive tables.';\n",
              "          element.innerHTML = '';\n",
              "          dataTable['output_type'] = 'display_data';\n",
              "          await google.colab.output.renderOutput(dataTable, element);\n",
              "          const docLink = document.createElement('div');\n",
              "          docLink.innerHTML = docLinkHtml;\n",
              "          element.appendChild(docLink);\n",
              "        }\n",
              "      </script>\n",
              "    </div>\n",
              "  </div>\n",
              "  "
            ]
          },
          "metadata": {},
          "execution_count": 54
        }
      ],
      "source": [
        "data = data.reset_index(drop=True)\n",
        "data"
      ]
    },
    {
      "cell_type": "markdown",
      "source": [
        "## 2. Bert 모델 적용"
      ],
      "metadata": {
        "id": "l-PcVXDJZk4a"
      }
    },
    {
      "cell_type": "code",
      "execution_count": null,
      "metadata": {
        "id": "55vNaceN5c9z"
      },
      "outputs": [],
      "source": [
        "# 문서로부터 추출한 키워드들을 SBERT를 통해 수치화\n",
        "# 한국어를 포함하고 있는 다국어 SBERT load\n",
        "\n",
        "model = SentenceTransformer('sentence-transformers/xlm-r-100langs-bert-base-nli-stsb-mean-tokens')"
      ]
    },
    {
      "cell_type": "markdown",
      "source": [
        "사이킷런의 CountVectorizer를 사용하여 단어 추출\n",
        "- n_gram_range의 인자를 사용하여 쉽게 n-gram 추출 가능\n",
        "- ex) (2, 3)으로 설정하면 결과 후버는 2개의 단어 또는 3개의 단어를 한 묶음으로 간주하여 추출\n",
        "- 이번 프로젝트에서는 단어 하나의 키워드 추출을 위해 (1, 1)로 설정\n",
        "\n",
        "키워드 추출 후, 각 단어를 임베딩 벡터화(수치화) 시켜준다.\n",
        "- 해당 작업은, SBERT모델에서 각 단어의 벡터를 호출해온다."
      ],
      "metadata": {
        "id": "mrZ4bMjSaBBt"
      }
    },
    {
      "cell_type": "code",
      "execution_count": 56,
      "metadata": {
        "id": "977sq9QDfT-p"
      },
      "outputs": [],
      "source": [
        "def keyword_out(doc):\n",
        "\n",
        "    # okt 객체 생성\n",
        "    okt = Okt()\n",
        "\n",
        "    # 태깅 작업 후, 품사가 명사인 단어들을 모두 join 해준다.\n",
        "    tokenized_doc = okt.pos(doc)\n",
        "    tokenized_nouns = ' '.join(okt.nouns(doc))\n",
        "\n",
        "    # 최소 1, 최대 1 길이의 단어를 추출한다.\n",
        "    n_gram_range = (1, 1)\n",
        "\n",
        "    try:\n",
        "        count = CountVectorizer(ngram_range=n_gram_range).fit([tokenized_nouns])\n",
        "        candidates = count.get_feature_names_out()\n",
        "    except:\n",
        "        return 0\n",
        "\n",
        "    # global model\n",
        "    doc_embedding = model.encode([doc])\n",
        "    candidate_embeddings = model.encode(candidates)\n",
        "\n",
        "    # top_n : 추출할 키워드 갯수\n",
        "    # nr_candidates : 상위 n개의 키워드를 선택하고 이들 중 가장 유사성이 낮은 5개 선택\n",
        "    top_n = 5\n",
        "    nr_candidates = 10\n",
        "\n",
        "    # 문서와 각 키워드들 간의 유사도\n",
        "    distances = cosine_similarity(doc_embedding, candidate_embeddings)\n",
        "\n",
        "    # 각 키워드들 간의 유사도\n",
        "    distances_candidates = cosine_similarity(candidate_embeddings, \n",
        "                                            candidate_embeddings)\n",
        "\n",
        "    # 코사인 유사도에 기반하여 키워드들 중 상위 top_n개의 단어를 pick.\n",
        "    words_idx = list(distances.argsort()[0][-nr_candidates:])\n",
        "    words_vals = [candidates[index] for index in words_idx]\n",
        "    distances_candidates = distances_candidates[np.ix_(words_idx, words_idx)]\n",
        "\n",
        "    # 각 키워드들 중에서 가장 덜 유사한 키워드들간의 조합을 계산\n",
        "    min_sim = np.inf\n",
        "    candidate = None\n",
        "    for combination in itertools.combinations(range(len(words_idx)), top_n):\n",
        "        sim = sum([distances_candidates[i][j] for i in combination for j in combination if i != j])\n",
        "        if sim < min_sim:\n",
        "            candidate = combination\n",
        "            min_sim = sim\n",
        "        # else:\n",
        "        #     return '키워드 불가'\n",
        "\n",
        "    return [words_vals[idx] for idx in candidate]"
      ]
    },
    {
      "cell_type": "code",
      "source": [
        "data['keyword'] = -1"
      ],
      "metadata": {
        "id": "LexTO6opoosL"
      },
      "execution_count": 59,
      "outputs": []
    },
    {
      "cell_type": "code",
      "execution_count": null,
      "metadata": {
        "colab": {
          "base_uri": "https://localhost:8080/"
        },
        "id": "X4zu6i-ZgU41",
        "outputId": "20d97955-7df2-442e-d5b2-fbd3a8a83749"
      },
      "outputs": [
        {
          "output_type": "stream",
          "name": "stderr",
          "text": [
            "  0%|          | 0/2802 [00:00<?, ?it/s]/usr/local/lib/python3.7/dist-packages/ipykernel_launcher.py:4: SettingWithCopyWarning: \n",
            "A value is trying to be set on a copy of a slice from a DataFrame\n",
            "\n",
            "See the caveats in the documentation: https://pandas.pydata.org/pandas-docs/stable/user_guide/indexing.html#returning-a-view-versus-a-copy\n",
            "  after removing the cwd from sys.path.\n",
            "/usr/local/lib/python3.7/dist-packages/pandas/core/indexing.py:1732: SettingWithCopyWarning: \n",
            "A value is trying to be set on a copy of a slice from a DataFrame\n",
            "\n",
            "See the caveats in the documentation: https://pandas.pydata.org/pandas-docs/stable/user_guide/indexing.html#returning-a-view-versus-a-copy\n",
            "  self._setitem_single_block(indexer, value, name)\n",
            " 99%|█████████▉| 2778/2802 [3:28:41<01:27,  3.64s/it]"
          ]
        }
      ],
      "source": [
        "# 키워드 추출 후 keyword 컬럼에 저장\n",
        "\n",
        "for i in tqdm(range(len(data))):\n",
        "    data['keyword'][i] = keyword_out(data['description'][i])"
      ]
    },
    {
      "cell_type": "code",
      "source": [
        "data"
      ],
      "metadata": {
        "colab": {
          "base_uri": "https://localhost:8080/",
          "height": 467
        },
        "id": "g11vWO7wiKu1",
        "outputId": "7efc3eb7-2341-4c92-94eb-9c1c277097e8"
      },
      "execution_count": 61,
      "outputs": [
        {
          "output_type": "execute_result",
          "data": {
            "text/plain": [
              "               isbn    item_id  category                      title  author  \\\n",
              "0     9791191825435  294902251  가정/요리/뷰티  맛있어서 지속 가능한 디디미니 다이어트 레시피  미니 박지우   \n",
              "1     9791192107608  285827577  가정/요리/뷰티                열두 달 향신료 카레     김민지   \n",
              "2     9791164261840  295216320  가정/요리/뷰티                  페이스트리 테이블     박성채   \n",
              "3     9791138323284  296057122  가정/요리/뷰티           소워니놀이터의 말랑말랑 스퀴시     조윤성   \n",
              "4     9791140700233  296633531  가정/요리/뷰티         맛있는 게 좋아서 양조절 다이어트     한아름   \n",
              "...             ...        ...       ...                        ...     ...   \n",
              "2797  9788952227829   35029230     로맨스소설                     미 비포 유  조조 모예스   \n",
              "2798  9788952766441   18593792     로맨스소설            그레이의 50가지 그림자 1     제임스   \n",
              "2799  9791189604110  244280066     로맨스소설                        상견니    지엔치펑   \n",
              "2800  9791135475832  290418968     로맨스소설                 나쁜 생각이 들어서     요안나   \n",
              "2801  9791130620879  183713941     로맨스소설                   시간의 계단 2     주영하   \n",
              "\n",
              "     publisher      p_date  price  page  avg_score  \\\n",
              "0          빅피시  2022-05-23  16920   296       10.0   \n",
              "1         세미콜론  2022-06-20  18000   224        0.0   \n",
              "2         더테이블  2022-05-30  28800   256       10.0   \n",
              "3          시대인  2022-07-05  18000   194        0.0   \n",
              "4           길벗  2022-06-22  16650   228        9.8   \n",
              "...        ...         ...    ...   ...        ...   \n",
              "2797        살림  2013-12-24  13500   536        8.9   \n",
              "2798       시공사  2012-08-08  10800   416        6.8   \n",
              "2799      리플레이  2020-07-14  14220   432        9.8   \n",
              "2800       로코코  2022-03-17  12150   560        9.9   \n",
              "2801       블라썸  2019-02-20  12420   280       10.0   \n",
              "\n",
              "                                            description  chk  \\\n",
              "0     매년수만개의감량후기가잇따르는고단백요리로수많은다이어터의찬사를받고있는디디미니가올해도어김...    0   \n",
              "1     커다란간판없이도사람들이모여드는서울최고의카레성지오직향신료카레하나만을먹기위해웨이팅도불사...    0   \n",
              "2     디저트카페창업을위한레시피컨설팅북디저트카페를운영하는데있어가장기본이되는핵심메뉴그리고크림...    0   \n",
              "3     기존의종이놀이를뛰어넘어도안과도안사이에솜을넣어말랑말랑하고폭신폭신한촉감의스퀴시를만들수있...    0   \n",
              "4     매일습관만바꿔도이빠진다고기도탄수화물도디저트도포기할수없는맛있는게너무좋은다이어터들에게딱...    0   \n",
              "...                                                 ...  ...   \n",
              "2797  영국에서입소문만으로최고의베스트셀러가되고이후출간된독일에서는밀리언셀러로서엄청난판매량을기...    0   \n",
              "2798  년월미국순문학출판사인랜덤하우스빈티지는그레이의가지그림자가출간석달만에시리즈포함총천백만부...    0   \n",
              "2799  년대만최고의화제작드라마소설죽은남자친구왕취안성에대한그리움을떨치지못한황위쉬안은이세계의또...    0   \n",
              "2800  요안나장편소설졸지에거액의빚과생면부지의어린이복동생이생긴서희학교선배이자금융그룹의대표서지...    0   \n",
              "2801  주영하장편소설현실에찌든살의은행원이연아어느날끔찍한기억만남은고등학교에우연히방문한그녀는존...    0   \n",
              "\n",
              "                              keyword  \n",
              "0             [활용, 요리, 찬사, 디저트, 다이어트]  \n",
              "1             [노란색, 먹기, 열두달, 향신료, 서울]  \n",
              "2            [시뮬레이션, 파티, 창업, 메뉴, 디저트]  \n",
              "3             [손재주, 칭찬, 놀이, 놀이터, 만족감]  \n",
              "4           [만천, 습관, 탄수화물, 디저트, 다이어트]  \n",
              "...                               ...  \n",
              "2797            [첫출근, 경제, 남녀, 유머, 독일]  \n",
              "2798  [판매, 뉴욕타임스, 아마존닷컴, 로맨스소설, 억만장자]  \n",
              "2799            [의혹, 확신, 영혼, 소설, 그리움]  \n",
              "2800         [어린이, 거짓말, 학교, 장편소설, 금융]  \n",
              "2801        [은행원, 운명, 화재, 장편소설, 고등학교]  \n",
              "\n",
              "[2802 rows x 13 columns]"
            ],
            "text/html": [
              "\n",
              "  <div id=\"df-0253f060-4bd5-440d-bc3b-a94addf00c1f\">\n",
              "    <div class=\"colab-df-container\">\n",
              "      <div>\n",
              "<style scoped>\n",
              "    .dataframe tbody tr th:only-of-type {\n",
              "        vertical-align: middle;\n",
              "    }\n",
              "\n",
              "    .dataframe tbody tr th {\n",
              "        vertical-align: top;\n",
              "    }\n",
              "\n",
              "    .dataframe thead th {\n",
              "        text-align: right;\n",
              "    }\n",
              "</style>\n",
              "<table border=\"1\" class=\"dataframe\">\n",
              "  <thead>\n",
              "    <tr style=\"text-align: right;\">\n",
              "      <th></th>\n",
              "      <th>isbn</th>\n",
              "      <th>item_id</th>\n",
              "      <th>category</th>\n",
              "      <th>title</th>\n",
              "      <th>author</th>\n",
              "      <th>publisher</th>\n",
              "      <th>p_date</th>\n",
              "      <th>price</th>\n",
              "      <th>page</th>\n",
              "      <th>avg_score</th>\n",
              "      <th>description</th>\n",
              "      <th>chk</th>\n",
              "      <th>keyword</th>\n",
              "    </tr>\n",
              "  </thead>\n",
              "  <tbody>\n",
              "    <tr>\n",
              "      <th>0</th>\n",
              "      <td>9791191825435</td>\n",
              "      <td>294902251</td>\n",
              "      <td>가정/요리/뷰티</td>\n",
              "      <td>맛있어서 지속 가능한 디디미니 다이어트 레시피</td>\n",
              "      <td>미니 박지우</td>\n",
              "      <td>빅피시</td>\n",
              "      <td>2022-05-23</td>\n",
              "      <td>16920</td>\n",
              "      <td>296</td>\n",
              "      <td>10.0</td>\n",
              "      <td>매년수만개의감량후기가잇따르는고단백요리로수많은다이어터의찬사를받고있는디디미니가올해도어김...</td>\n",
              "      <td>0</td>\n",
              "      <td>[활용, 요리, 찬사, 디저트, 다이어트]</td>\n",
              "    </tr>\n",
              "    <tr>\n",
              "      <th>1</th>\n",
              "      <td>9791192107608</td>\n",
              "      <td>285827577</td>\n",
              "      <td>가정/요리/뷰티</td>\n",
              "      <td>열두 달 향신료 카레</td>\n",
              "      <td>김민지</td>\n",
              "      <td>세미콜론</td>\n",
              "      <td>2022-06-20</td>\n",
              "      <td>18000</td>\n",
              "      <td>224</td>\n",
              "      <td>0.0</td>\n",
              "      <td>커다란간판없이도사람들이모여드는서울최고의카레성지오직향신료카레하나만을먹기위해웨이팅도불사...</td>\n",
              "      <td>0</td>\n",
              "      <td>[노란색, 먹기, 열두달, 향신료, 서울]</td>\n",
              "    </tr>\n",
              "    <tr>\n",
              "      <th>2</th>\n",
              "      <td>9791164261840</td>\n",
              "      <td>295216320</td>\n",
              "      <td>가정/요리/뷰티</td>\n",
              "      <td>페이스트리 테이블</td>\n",
              "      <td>박성채</td>\n",
              "      <td>더테이블</td>\n",
              "      <td>2022-05-30</td>\n",
              "      <td>28800</td>\n",
              "      <td>256</td>\n",
              "      <td>10.0</td>\n",
              "      <td>디저트카페창업을위한레시피컨설팅북디저트카페를운영하는데있어가장기본이되는핵심메뉴그리고크림...</td>\n",
              "      <td>0</td>\n",
              "      <td>[시뮬레이션, 파티, 창업, 메뉴, 디저트]</td>\n",
              "    </tr>\n",
              "    <tr>\n",
              "      <th>3</th>\n",
              "      <td>9791138323284</td>\n",
              "      <td>296057122</td>\n",
              "      <td>가정/요리/뷰티</td>\n",
              "      <td>소워니놀이터의 말랑말랑 스퀴시</td>\n",
              "      <td>조윤성</td>\n",
              "      <td>시대인</td>\n",
              "      <td>2022-07-05</td>\n",
              "      <td>18000</td>\n",
              "      <td>194</td>\n",
              "      <td>0.0</td>\n",
              "      <td>기존의종이놀이를뛰어넘어도안과도안사이에솜을넣어말랑말랑하고폭신폭신한촉감의스퀴시를만들수있...</td>\n",
              "      <td>0</td>\n",
              "      <td>[손재주, 칭찬, 놀이, 놀이터, 만족감]</td>\n",
              "    </tr>\n",
              "    <tr>\n",
              "      <th>4</th>\n",
              "      <td>9791140700233</td>\n",
              "      <td>296633531</td>\n",
              "      <td>가정/요리/뷰티</td>\n",
              "      <td>맛있는 게 좋아서 양조절 다이어트</td>\n",
              "      <td>한아름</td>\n",
              "      <td>길벗</td>\n",
              "      <td>2022-06-22</td>\n",
              "      <td>16650</td>\n",
              "      <td>228</td>\n",
              "      <td>9.8</td>\n",
              "      <td>매일습관만바꿔도이빠진다고기도탄수화물도디저트도포기할수없는맛있는게너무좋은다이어터들에게딱...</td>\n",
              "      <td>0</td>\n",
              "      <td>[만천, 습관, 탄수화물, 디저트, 다이어트]</td>\n",
              "    </tr>\n",
              "    <tr>\n",
              "      <th>...</th>\n",
              "      <td>...</td>\n",
              "      <td>...</td>\n",
              "      <td>...</td>\n",
              "      <td>...</td>\n",
              "      <td>...</td>\n",
              "      <td>...</td>\n",
              "      <td>...</td>\n",
              "      <td>...</td>\n",
              "      <td>...</td>\n",
              "      <td>...</td>\n",
              "      <td>...</td>\n",
              "      <td>...</td>\n",
              "      <td>...</td>\n",
              "    </tr>\n",
              "    <tr>\n",
              "      <th>2797</th>\n",
              "      <td>9788952227829</td>\n",
              "      <td>35029230</td>\n",
              "      <td>로맨스소설</td>\n",
              "      <td>미 비포 유</td>\n",
              "      <td>조조 모예스</td>\n",
              "      <td>살림</td>\n",
              "      <td>2013-12-24</td>\n",
              "      <td>13500</td>\n",
              "      <td>536</td>\n",
              "      <td>8.9</td>\n",
              "      <td>영국에서입소문만으로최고의베스트셀러가되고이후출간된독일에서는밀리언셀러로서엄청난판매량을기...</td>\n",
              "      <td>0</td>\n",
              "      <td>[첫출근, 경제, 남녀, 유머, 독일]</td>\n",
              "    </tr>\n",
              "    <tr>\n",
              "      <th>2798</th>\n",
              "      <td>9788952766441</td>\n",
              "      <td>18593792</td>\n",
              "      <td>로맨스소설</td>\n",
              "      <td>그레이의 50가지 그림자 1</td>\n",
              "      <td>제임스</td>\n",
              "      <td>시공사</td>\n",
              "      <td>2012-08-08</td>\n",
              "      <td>10800</td>\n",
              "      <td>416</td>\n",
              "      <td>6.8</td>\n",
              "      <td>년월미국순문학출판사인랜덤하우스빈티지는그레이의가지그림자가출간석달만에시리즈포함총천백만부...</td>\n",
              "      <td>0</td>\n",
              "      <td>[판매, 뉴욕타임스, 아마존닷컴, 로맨스소설, 억만장자]</td>\n",
              "    </tr>\n",
              "    <tr>\n",
              "      <th>2799</th>\n",
              "      <td>9791189604110</td>\n",
              "      <td>244280066</td>\n",
              "      <td>로맨스소설</td>\n",
              "      <td>상견니</td>\n",
              "      <td>지엔치펑</td>\n",
              "      <td>리플레이</td>\n",
              "      <td>2020-07-14</td>\n",
              "      <td>14220</td>\n",
              "      <td>432</td>\n",
              "      <td>9.8</td>\n",
              "      <td>년대만최고의화제작드라마소설죽은남자친구왕취안성에대한그리움을떨치지못한황위쉬안은이세계의또...</td>\n",
              "      <td>0</td>\n",
              "      <td>[의혹, 확신, 영혼, 소설, 그리움]</td>\n",
              "    </tr>\n",
              "    <tr>\n",
              "      <th>2800</th>\n",
              "      <td>9791135475832</td>\n",
              "      <td>290418968</td>\n",
              "      <td>로맨스소설</td>\n",
              "      <td>나쁜 생각이 들어서</td>\n",
              "      <td>요안나</td>\n",
              "      <td>로코코</td>\n",
              "      <td>2022-03-17</td>\n",
              "      <td>12150</td>\n",
              "      <td>560</td>\n",
              "      <td>9.9</td>\n",
              "      <td>요안나장편소설졸지에거액의빚과생면부지의어린이복동생이생긴서희학교선배이자금융그룹의대표서지...</td>\n",
              "      <td>0</td>\n",
              "      <td>[어린이, 거짓말, 학교, 장편소설, 금융]</td>\n",
              "    </tr>\n",
              "    <tr>\n",
              "      <th>2801</th>\n",
              "      <td>9791130620879</td>\n",
              "      <td>183713941</td>\n",
              "      <td>로맨스소설</td>\n",
              "      <td>시간의 계단 2</td>\n",
              "      <td>주영하</td>\n",
              "      <td>블라썸</td>\n",
              "      <td>2019-02-20</td>\n",
              "      <td>12420</td>\n",
              "      <td>280</td>\n",
              "      <td>10.0</td>\n",
              "      <td>주영하장편소설현실에찌든살의은행원이연아어느날끔찍한기억만남은고등학교에우연히방문한그녀는존...</td>\n",
              "      <td>0</td>\n",
              "      <td>[은행원, 운명, 화재, 장편소설, 고등학교]</td>\n",
              "    </tr>\n",
              "  </tbody>\n",
              "</table>\n",
              "<p>2802 rows × 13 columns</p>\n",
              "</div>\n",
              "      <button class=\"colab-df-convert\" onclick=\"convertToInteractive('df-0253f060-4bd5-440d-bc3b-a94addf00c1f')\"\n",
              "              title=\"Convert this dataframe to an interactive table.\"\n",
              "              style=\"display:none;\">\n",
              "        \n",
              "  <svg xmlns=\"http://www.w3.org/2000/svg\" height=\"24px\"viewBox=\"0 0 24 24\"\n",
              "       width=\"24px\">\n",
              "    <path d=\"M0 0h24v24H0V0z\" fill=\"none\"/>\n",
              "    <path d=\"M18.56 5.44l.94 2.06.94-2.06 2.06-.94-2.06-.94-.94-2.06-.94 2.06-2.06.94zm-11 1L8.5 8.5l.94-2.06 2.06-.94-2.06-.94L8.5 2.5l-.94 2.06-2.06.94zm10 10l.94 2.06.94-2.06 2.06-.94-2.06-.94-.94-2.06-.94 2.06-2.06.94z\"/><path d=\"M17.41 7.96l-1.37-1.37c-.4-.4-.92-.59-1.43-.59-.52 0-1.04.2-1.43.59L10.3 9.45l-7.72 7.72c-.78.78-.78 2.05 0 2.83L4 21.41c.39.39.9.59 1.41.59.51 0 1.02-.2 1.41-.59l7.78-7.78 2.81-2.81c.8-.78.8-2.07 0-2.86zM5.41 20L4 18.59l7.72-7.72 1.47 1.35L5.41 20z\"/>\n",
              "  </svg>\n",
              "      </button>\n",
              "      \n",
              "  <style>\n",
              "    .colab-df-container {\n",
              "      display:flex;\n",
              "      flex-wrap:wrap;\n",
              "      gap: 12px;\n",
              "    }\n",
              "\n",
              "    .colab-df-convert {\n",
              "      background-color: #E8F0FE;\n",
              "      border: none;\n",
              "      border-radius: 50%;\n",
              "      cursor: pointer;\n",
              "      display: none;\n",
              "      fill: #1967D2;\n",
              "      height: 32px;\n",
              "      padding: 0 0 0 0;\n",
              "      width: 32px;\n",
              "    }\n",
              "\n",
              "    .colab-df-convert:hover {\n",
              "      background-color: #E2EBFA;\n",
              "      box-shadow: 0px 1px 2px rgba(60, 64, 67, 0.3), 0px 1px 3px 1px rgba(60, 64, 67, 0.15);\n",
              "      fill: #174EA6;\n",
              "    }\n",
              "\n",
              "    [theme=dark] .colab-df-convert {\n",
              "      background-color: #3B4455;\n",
              "      fill: #D2E3FC;\n",
              "    }\n",
              "\n",
              "    [theme=dark] .colab-df-convert:hover {\n",
              "      background-color: #434B5C;\n",
              "      box-shadow: 0px 1px 3px 1px rgba(0, 0, 0, 0.15);\n",
              "      filter: drop-shadow(0px 1px 2px rgba(0, 0, 0, 0.3));\n",
              "      fill: #FFFFFF;\n",
              "    }\n",
              "  </style>\n",
              "\n",
              "      <script>\n",
              "        const buttonEl =\n",
              "          document.querySelector('#df-0253f060-4bd5-440d-bc3b-a94addf00c1f button.colab-df-convert');\n",
              "        buttonEl.style.display =\n",
              "          google.colab.kernel.accessAllowed ? 'block' : 'none';\n",
              "\n",
              "        async function convertToInteractive(key) {\n",
              "          const element = document.querySelector('#df-0253f060-4bd5-440d-bc3b-a94addf00c1f');\n",
              "          const dataTable =\n",
              "            await google.colab.kernel.invokeFunction('convertToInteractive',\n",
              "                                                     [key], {});\n",
              "          if (!dataTable) return;\n",
              "\n",
              "          const docLinkHtml = 'Like what you see? Visit the ' +\n",
              "            '<a target=\"_blank\" href=https://colab.research.google.com/notebooks/data_table.ipynb>data table notebook</a>'\n",
              "            + ' to learn more about interactive tables.';\n",
              "          element.innerHTML = '';\n",
              "          dataTable['output_type'] = 'display_data';\n",
              "          await google.colab.output.renderOutput(dataTable, element);\n",
              "          const docLink = document.createElement('div');\n",
              "          docLink.innerHTML = docLinkHtml;\n",
              "          element.appendChild(docLink);\n",
              "        }\n",
              "      </script>\n",
              "    </div>\n",
              "  </div>\n",
              "  "
            ]
          },
          "metadata": {},
          "execution_count": 61
        }
      ]
    },
    {
      "cell_type": "code",
      "source": [
        "# data 추출\n",
        "\n",
        "data.to_csv('/content/drive/MyDrive/code_states/cp1/book_table_after.csv')"
      ],
      "metadata": {
        "id": "AwLuk_jvyZu4"
      },
      "execution_count": 62,
      "outputs": []
    },
    {
      "cell_type": "markdown",
      "metadata": {
        "id": "cXY31in0SiAO"
      },
      "source": [
        "# 감성분석"
      ]
    },
    {
      "cell_type": "markdown",
      "source": [
        "한국어 단발성 대화 데이터셋 파일을 가져와 BERT 모양에 사전학습을 시켜주고, </br>\n",
        "크롤링한 데이터를 파인튜닝하여 프로젝트의 방향에 맞는 출력 labeling을 진행한다."
      ],
      "metadata": {
        "id": "cMF46Kc1a6N4"
      }
    },
    {
      "cell_type": "markdown",
      "source": [
        "## 1. 전처리"
      ],
      "metadata": {
        "id": "Olo1D3fraqDT"
      }
    },
    {
      "cell_type": "code",
      "execution_count": 134,
      "metadata": {
        "id": "pBJ7zF7LSjSW"
      },
      "outputs": [],
      "source": [
        "import pandas as pd\n",
        "emo = pd.read_excel('/content/drive/MyDrive/code_states/cp1/한국어_단발성_대화_데이터셋.xlsx')"
      ]
    },
    {
      "cell_type": "code",
      "execution_count": 135,
      "metadata": {
        "colab": {
          "base_uri": "https://localhost:8080/",
          "height": 423
        },
        "id": "GvV1zdlHS5S2",
        "outputId": "4320cdb3-436d-4e1b-e104-3392a860b0a1"
      },
      "outputs": [
        {
          "output_type": "execute_result",
          "data": {
            "text/plain": [
              "                                                Sentence Emotion  Unnamed: 2  \\\n",
              "0                               언니 동생으로 부르는게 맞는 일인가요..??      공포         NaN   \n",
              "1                                           그냥 내 느낌일뿐겠지?      공포         NaN   \n",
              "2                                         아직너무초기라서 그런거죠?      공포         NaN   \n",
              "3                                          유치원버스 사고 낫다던데      공포         NaN   \n",
              "4                                            근데 원래이런거맞나요      공포         NaN   \n",
              "...                                                  ...     ...         ...   \n",
              "38589               솔직히 예보 제대로 못하는 데 세금이라도 아끼게 그냥 폐지해라..      혐오         NaN   \n",
              "38590                                        재미가 없으니 망하지      혐오         NaN   \n",
              "38591  공장 도시락 비우생적임 아르바이트했는데 화장실가성 손도 않씯고 재료 담고 바닥 떨어...      혐오         NaN   \n",
              "38592               코딱지 만한 나라에서 지들끼리 피터지게 싸우는 센징 클래스 ㅉㅉㅉ      혐오         NaN   \n",
              "38593               와이프도 그렇고 댓글 다 볼텐데 이휘재 좀 하차 하라고 전해주세요      혐오         NaN   \n",
              "\n",
              "       Unnamed: 3  Unnamed: 4   공포    5468  \n",
              "0             NaN         NaN   놀람  5898.0  \n",
              "1             NaN         NaN   분노  5665.0  \n",
              "2             NaN         NaN   슬픔  5267.0  \n",
              "3             NaN         NaN   중립  4830.0  \n",
              "4             NaN         NaN   행복  6037.0  \n",
              "...           ...         ...  ...     ...  \n",
              "38589         NaN         NaN  NaN     NaN  \n",
              "38590         NaN         NaN  NaN     NaN  \n",
              "38591         NaN         NaN  NaN     NaN  \n",
              "38592         NaN         NaN  NaN     NaN  \n",
              "38593         NaN         NaN  NaN     NaN  \n",
              "\n",
              "[38594 rows x 7 columns]"
            ],
            "text/html": [
              "\n",
              "  <div id=\"df-921d7b1d-a2b5-472c-aec8-f017fbfaba16\">\n",
              "    <div class=\"colab-df-container\">\n",
              "      <div>\n",
              "<style scoped>\n",
              "    .dataframe tbody tr th:only-of-type {\n",
              "        vertical-align: middle;\n",
              "    }\n",
              "\n",
              "    .dataframe tbody tr th {\n",
              "        vertical-align: top;\n",
              "    }\n",
              "\n",
              "    .dataframe thead th {\n",
              "        text-align: right;\n",
              "    }\n",
              "</style>\n",
              "<table border=\"1\" class=\"dataframe\">\n",
              "  <thead>\n",
              "    <tr style=\"text-align: right;\">\n",
              "      <th></th>\n",
              "      <th>Sentence</th>\n",
              "      <th>Emotion</th>\n",
              "      <th>Unnamed: 2</th>\n",
              "      <th>Unnamed: 3</th>\n",
              "      <th>Unnamed: 4</th>\n",
              "      <th>공포</th>\n",
              "      <th>5468</th>\n",
              "    </tr>\n",
              "  </thead>\n",
              "  <tbody>\n",
              "    <tr>\n",
              "      <th>0</th>\n",
              "      <td>언니 동생으로 부르는게 맞는 일인가요..??</td>\n",
              "      <td>공포</td>\n",
              "      <td>NaN</td>\n",
              "      <td>NaN</td>\n",
              "      <td>NaN</td>\n",
              "      <td>놀람</td>\n",
              "      <td>5898.0</td>\n",
              "    </tr>\n",
              "    <tr>\n",
              "      <th>1</th>\n",
              "      <td>그냥 내 느낌일뿐겠지?</td>\n",
              "      <td>공포</td>\n",
              "      <td>NaN</td>\n",
              "      <td>NaN</td>\n",
              "      <td>NaN</td>\n",
              "      <td>분노</td>\n",
              "      <td>5665.0</td>\n",
              "    </tr>\n",
              "    <tr>\n",
              "      <th>2</th>\n",
              "      <td>아직너무초기라서 그런거죠?</td>\n",
              "      <td>공포</td>\n",
              "      <td>NaN</td>\n",
              "      <td>NaN</td>\n",
              "      <td>NaN</td>\n",
              "      <td>슬픔</td>\n",
              "      <td>5267.0</td>\n",
              "    </tr>\n",
              "    <tr>\n",
              "      <th>3</th>\n",
              "      <td>유치원버스 사고 낫다던데</td>\n",
              "      <td>공포</td>\n",
              "      <td>NaN</td>\n",
              "      <td>NaN</td>\n",
              "      <td>NaN</td>\n",
              "      <td>중립</td>\n",
              "      <td>4830.0</td>\n",
              "    </tr>\n",
              "    <tr>\n",
              "      <th>4</th>\n",
              "      <td>근데 원래이런거맞나요</td>\n",
              "      <td>공포</td>\n",
              "      <td>NaN</td>\n",
              "      <td>NaN</td>\n",
              "      <td>NaN</td>\n",
              "      <td>행복</td>\n",
              "      <td>6037.0</td>\n",
              "    </tr>\n",
              "    <tr>\n",
              "      <th>...</th>\n",
              "      <td>...</td>\n",
              "      <td>...</td>\n",
              "      <td>...</td>\n",
              "      <td>...</td>\n",
              "      <td>...</td>\n",
              "      <td>...</td>\n",
              "      <td>...</td>\n",
              "    </tr>\n",
              "    <tr>\n",
              "      <th>38589</th>\n",
              "      <td>솔직히 예보 제대로 못하는 데 세금이라도 아끼게 그냥 폐지해라..</td>\n",
              "      <td>혐오</td>\n",
              "      <td>NaN</td>\n",
              "      <td>NaN</td>\n",
              "      <td>NaN</td>\n",
              "      <td>NaN</td>\n",
              "      <td>NaN</td>\n",
              "    </tr>\n",
              "    <tr>\n",
              "      <th>38590</th>\n",
              "      <td>재미가 없으니 망하지</td>\n",
              "      <td>혐오</td>\n",
              "      <td>NaN</td>\n",
              "      <td>NaN</td>\n",
              "      <td>NaN</td>\n",
              "      <td>NaN</td>\n",
              "      <td>NaN</td>\n",
              "    </tr>\n",
              "    <tr>\n",
              "      <th>38591</th>\n",
              "      <td>공장 도시락 비우생적임 아르바이트했는데 화장실가성 손도 않씯고 재료 담고 바닥 떨어...</td>\n",
              "      <td>혐오</td>\n",
              "      <td>NaN</td>\n",
              "      <td>NaN</td>\n",
              "      <td>NaN</td>\n",
              "      <td>NaN</td>\n",
              "      <td>NaN</td>\n",
              "    </tr>\n",
              "    <tr>\n",
              "      <th>38592</th>\n",
              "      <td>코딱지 만한 나라에서 지들끼리 피터지게 싸우는 센징 클래스 ㅉㅉㅉ</td>\n",
              "      <td>혐오</td>\n",
              "      <td>NaN</td>\n",
              "      <td>NaN</td>\n",
              "      <td>NaN</td>\n",
              "      <td>NaN</td>\n",
              "      <td>NaN</td>\n",
              "    </tr>\n",
              "    <tr>\n",
              "      <th>38593</th>\n",
              "      <td>와이프도 그렇고 댓글 다 볼텐데 이휘재 좀 하차 하라고 전해주세요</td>\n",
              "      <td>혐오</td>\n",
              "      <td>NaN</td>\n",
              "      <td>NaN</td>\n",
              "      <td>NaN</td>\n",
              "      <td>NaN</td>\n",
              "      <td>NaN</td>\n",
              "    </tr>\n",
              "  </tbody>\n",
              "</table>\n",
              "<p>38594 rows × 7 columns</p>\n",
              "</div>\n",
              "      <button class=\"colab-df-convert\" onclick=\"convertToInteractive('df-921d7b1d-a2b5-472c-aec8-f017fbfaba16')\"\n",
              "              title=\"Convert this dataframe to an interactive table.\"\n",
              "              style=\"display:none;\">\n",
              "        \n",
              "  <svg xmlns=\"http://www.w3.org/2000/svg\" height=\"24px\"viewBox=\"0 0 24 24\"\n",
              "       width=\"24px\">\n",
              "    <path d=\"M0 0h24v24H0V0z\" fill=\"none\"/>\n",
              "    <path d=\"M18.56 5.44l.94 2.06.94-2.06 2.06-.94-2.06-.94-.94-2.06-.94 2.06-2.06.94zm-11 1L8.5 8.5l.94-2.06 2.06-.94-2.06-.94L8.5 2.5l-.94 2.06-2.06.94zm10 10l.94 2.06.94-2.06 2.06-.94-2.06-.94-.94-2.06-.94 2.06-2.06.94z\"/><path d=\"M17.41 7.96l-1.37-1.37c-.4-.4-.92-.59-1.43-.59-.52 0-1.04.2-1.43.59L10.3 9.45l-7.72 7.72c-.78.78-.78 2.05 0 2.83L4 21.41c.39.39.9.59 1.41.59.51 0 1.02-.2 1.41-.59l7.78-7.78 2.81-2.81c.8-.78.8-2.07 0-2.86zM5.41 20L4 18.59l7.72-7.72 1.47 1.35L5.41 20z\"/>\n",
              "  </svg>\n",
              "      </button>\n",
              "      \n",
              "  <style>\n",
              "    .colab-df-container {\n",
              "      display:flex;\n",
              "      flex-wrap:wrap;\n",
              "      gap: 12px;\n",
              "    }\n",
              "\n",
              "    .colab-df-convert {\n",
              "      background-color: #E8F0FE;\n",
              "      border: none;\n",
              "      border-radius: 50%;\n",
              "      cursor: pointer;\n",
              "      display: none;\n",
              "      fill: #1967D2;\n",
              "      height: 32px;\n",
              "      padding: 0 0 0 0;\n",
              "      width: 32px;\n",
              "    }\n",
              "\n",
              "    .colab-df-convert:hover {\n",
              "      background-color: #E2EBFA;\n",
              "      box-shadow: 0px 1px 2px rgba(60, 64, 67, 0.3), 0px 1px 3px 1px rgba(60, 64, 67, 0.15);\n",
              "      fill: #174EA6;\n",
              "    }\n",
              "\n",
              "    [theme=dark] .colab-df-convert {\n",
              "      background-color: #3B4455;\n",
              "      fill: #D2E3FC;\n",
              "    }\n",
              "\n",
              "    [theme=dark] .colab-df-convert:hover {\n",
              "      background-color: #434B5C;\n",
              "      box-shadow: 0px 1px 3px 1px rgba(0, 0, 0, 0.15);\n",
              "      filter: drop-shadow(0px 1px 2px rgba(0, 0, 0, 0.3));\n",
              "      fill: #FFFFFF;\n",
              "    }\n",
              "  </style>\n",
              "\n",
              "      <script>\n",
              "        const buttonEl =\n",
              "          document.querySelector('#df-921d7b1d-a2b5-472c-aec8-f017fbfaba16 button.colab-df-convert');\n",
              "        buttonEl.style.display =\n",
              "          google.colab.kernel.accessAllowed ? 'block' : 'none';\n",
              "\n",
              "        async function convertToInteractive(key) {\n",
              "          const element = document.querySelector('#df-921d7b1d-a2b5-472c-aec8-f017fbfaba16');\n",
              "          const dataTable =\n",
              "            await google.colab.kernel.invokeFunction('convertToInteractive',\n",
              "                                                     [key], {});\n",
              "          if (!dataTable) return;\n",
              "\n",
              "          const docLinkHtml = 'Like what you see? Visit the ' +\n",
              "            '<a target=\"_blank\" href=https://colab.research.google.com/notebooks/data_table.ipynb>data table notebook</a>'\n",
              "            + ' to learn more about interactive tables.';\n",
              "          element.innerHTML = '';\n",
              "          dataTable['output_type'] = 'display_data';\n",
              "          await google.colab.output.renderOutput(dataTable, element);\n",
              "          const docLink = document.createElement('div');\n",
              "          docLink.innerHTML = docLinkHtml;\n",
              "          element.appendChild(docLink);\n",
              "        }\n",
              "      </script>\n",
              "    </div>\n",
              "  </div>\n",
              "  "
            ]
          },
          "metadata": {},
          "execution_count": 135
        }
      ],
      "source": [
        "emo"
      ]
    },
    {
      "cell_type": "code",
      "execution_count": 136,
      "metadata": {
        "id": "x8C4vpUbS7TT"
      },
      "outputs": [],
      "source": [
        "emo.loc[(emo['Emotion'] == \"공포\"), 'Emotion'] = 0  #공포 => 0\n",
        "emo.loc[(emo['Emotion'] == \"놀람\"), 'Emotion'] = 1  #놀람 => 1\n",
        "emo.loc[(emo['Emotion'] == \"분노\"), 'Emotion'] = 2  #분노 => 2\n",
        "emo.loc[(emo['Emotion'] == \"슬픔\"), 'Emotion'] = 3  #슬픔 => 3\n",
        "emo.loc[(emo['Emotion'] == \"중립\"), 'Emotion'] = 4  #중립 => 4\n",
        "emo.loc[(emo['Emotion'] == \"행복\"), 'Emotion'] = 5  #행복 => 5\n",
        "emo.loc[(emo['Emotion'] == \"혐오\"), 'Emotion'] = 6  #혐오 => 6\n",
        "\n",
        "data_list = []\n",
        "for q, label in zip(emo['Emotion'], emo['Sentence'])  :\n",
        "    data = []\n",
        "    data.append(q)\n",
        "    data.append(str(label))\n",
        "\n",
        "    data_list.append(data)"
      ]
    },
    {
      "cell_type": "code",
      "execution_count": 137,
      "metadata": {
        "colab": {
          "base_uri": "https://localhost:8080/"
        },
        "id": "ZO6drnIgTLpI",
        "outputId": "8893b8fe-0c41-4cd6-d1f6-8022caf19b79"
      },
      "outputs": [
        {
          "output_type": "stream",
          "name": "stdout",
          "text": [
            "[0, '언니 동생으로 부르는게 맞는 일인가요..??']\n",
            "[1, '기술적으로도 아직도 해체해서 다시 완벽히 돌려놓는게 어려운데 해체를한다고?']\n",
            "[2, '당연히 그렇게 해야지 우리나라도 판매를 중단하라']\n"
          ]
        }
      ],
      "source": [
        "print(data_list[0])\n",
        "print(data_list[6000])\n",
        "print(data_list[12000])"
      ]
    },
    {
      "cell_type": "code",
      "execution_count": 138,
      "metadata": {
        "id": "5D_KU67aTNUb"
      },
      "outputs": [],
      "source": [
        "df_emo = pd.DataFrame(data_list, columns=['category', 'data'])"
      ]
    },
    {
      "cell_type": "code",
      "execution_count": 139,
      "metadata": {
        "colab": {
          "base_uri": "https://localhost:8080/",
          "height": 423
        },
        "id": "62P4lvs9Toed",
        "outputId": "ae58d02e-78fc-49b6-8a65-c0f61431cc43"
      },
      "outputs": [
        {
          "output_type": "execute_result",
          "data": {
            "text/plain": [
              "       category                                               data\n",
              "0             0                           언니 동생으로 부르는게 맞는 일인가요..??\n",
              "1             0                                       그냥 내 느낌일뿐겠지?\n",
              "2             0                                     아직너무초기라서 그런거죠?\n",
              "3             0                                      유치원버스 사고 낫다던데\n",
              "4             0                                        근데 원래이런거맞나요\n",
              "...         ...                                                ...\n",
              "38589         6               솔직히 예보 제대로 못하는 데 세금이라도 아끼게 그냥 폐지해라..\n",
              "38590         6                                        재미가 없으니 망하지\n",
              "38591         6  공장 도시락 비우생적임 아르바이트했는데 화장실가성 손도 않씯고 재료 담고 바닥 떨어...\n",
              "38592         6               코딱지 만한 나라에서 지들끼리 피터지게 싸우는 센징 클래스 ㅉㅉㅉ\n",
              "38593         6               와이프도 그렇고 댓글 다 볼텐데 이휘재 좀 하차 하라고 전해주세요\n",
              "\n",
              "[38594 rows x 2 columns]"
            ],
            "text/html": [
              "\n",
              "  <div id=\"df-b5fe07c3-d2fe-4401-a394-5ea9df32ab54\">\n",
              "    <div class=\"colab-df-container\">\n",
              "      <div>\n",
              "<style scoped>\n",
              "    .dataframe tbody tr th:only-of-type {\n",
              "        vertical-align: middle;\n",
              "    }\n",
              "\n",
              "    .dataframe tbody tr th {\n",
              "        vertical-align: top;\n",
              "    }\n",
              "\n",
              "    .dataframe thead th {\n",
              "        text-align: right;\n",
              "    }\n",
              "</style>\n",
              "<table border=\"1\" class=\"dataframe\">\n",
              "  <thead>\n",
              "    <tr style=\"text-align: right;\">\n",
              "      <th></th>\n",
              "      <th>category</th>\n",
              "      <th>data</th>\n",
              "    </tr>\n",
              "  </thead>\n",
              "  <tbody>\n",
              "    <tr>\n",
              "      <th>0</th>\n",
              "      <td>0</td>\n",
              "      <td>언니 동생으로 부르는게 맞는 일인가요..??</td>\n",
              "    </tr>\n",
              "    <tr>\n",
              "      <th>1</th>\n",
              "      <td>0</td>\n",
              "      <td>그냥 내 느낌일뿐겠지?</td>\n",
              "    </tr>\n",
              "    <tr>\n",
              "      <th>2</th>\n",
              "      <td>0</td>\n",
              "      <td>아직너무초기라서 그런거죠?</td>\n",
              "    </tr>\n",
              "    <tr>\n",
              "      <th>3</th>\n",
              "      <td>0</td>\n",
              "      <td>유치원버스 사고 낫다던데</td>\n",
              "    </tr>\n",
              "    <tr>\n",
              "      <th>4</th>\n",
              "      <td>0</td>\n",
              "      <td>근데 원래이런거맞나요</td>\n",
              "    </tr>\n",
              "    <tr>\n",
              "      <th>...</th>\n",
              "      <td>...</td>\n",
              "      <td>...</td>\n",
              "    </tr>\n",
              "    <tr>\n",
              "      <th>38589</th>\n",
              "      <td>6</td>\n",
              "      <td>솔직히 예보 제대로 못하는 데 세금이라도 아끼게 그냥 폐지해라..</td>\n",
              "    </tr>\n",
              "    <tr>\n",
              "      <th>38590</th>\n",
              "      <td>6</td>\n",
              "      <td>재미가 없으니 망하지</td>\n",
              "    </tr>\n",
              "    <tr>\n",
              "      <th>38591</th>\n",
              "      <td>6</td>\n",
              "      <td>공장 도시락 비우생적임 아르바이트했는데 화장실가성 손도 않씯고 재료 담고 바닥 떨어...</td>\n",
              "    </tr>\n",
              "    <tr>\n",
              "      <th>38592</th>\n",
              "      <td>6</td>\n",
              "      <td>코딱지 만한 나라에서 지들끼리 피터지게 싸우는 센징 클래스 ㅉㅉㅉ</td>\n",
              "    </tr>\n",
              "    <tr>\n",
              "      <th>38593</th>\n",
              "      <td>6</td>\n",
              "      <td>와이프도 그렇고 댓글 다 볼텐데 이휘재 좀 하차 하라고 전해주세요</td>\n",
              "    </tr>\n",
              "  </tbody>\n",
              "</table>\n",
              "<p>38594 rows × 2 columns</p>\n",
              "</div>\n",
              "      <button class=\"colab-df-convert\" onclick=\"convertToInteractive('df-b5fe07c3-d2fe-4401-a394-5ea9df32ab54')\"\n",
              "              title=\"Convert this dataframe to an interactive table.\"\n",
              "              style=\"display:none;\">\n",
              "        \n",
              "  <svg xmlns=\"http://www.w3.org/2000/svg\" height=\"24px\"viewBox=\"0 0 24 24\"\n",
              "       width=\"24px\">\n",
              "    <path d=\"M0 0h24v24H0V0z\" fill=\"none\"/>\n",
              "    <path d=\"M18.56 5.44l.94 2.06.94-2.06 2.06-.94-2.06-.94-.94-2.06-.94 2.06-2.06.94zm-11 1L8.5 8.5l.94-2.06 2.06-.94-2.06-.94L8.5 2.5l-.94 2.06-2.06.94zm10 10l.94 2.06.94-2.06 2.06-.94-2.06-.94-.94-2.06-.94 2.06-2.06.94z\"/><path d=\"M17.41 7.96l-1.37-1.37c-.4-.4-.92-.59-1.43-.59-.52 0-1.04.2-1.43.59L10.3 9.45l-7.72 7.72c-.78.78-.78 2.05 0 2.83L4 21.41c.39.39.9.59 1.41.59.51 0 1.02-.2 1.41-.59l7.78-7.78 2.81-2.81c.8-.78.8-2.07 0-2.86zM5.41 20L4 18.59l7.72-7.72 1.47 1.35L5.41 20z\"/>\n",
              "  </svg>\n",
              "      </button>\n",
              "      \n",
              "  <style>\n",
              "    .colab-df-container {\n",
              "      display:flex;\n",
              "      flex-wrap:wrap;\n",
              "      gap: 12px;\n",
              "    }\n",
              "\n",
              "    .colab-df-convert {\n",
              "      background-color: #E8F0FE;\n",
              "      border: none;\n",
              "      border-radius: 50%;\n",
              "      cursor: pointer;\n",
              "      display: none;\n",
              "      fill: #1967D2;\n",
              "      height: 32px;\n",
              "      padding: 0 0 0 0;\n",
              "      width: 32px;\n",
              "    }\n",
              "\n",
              "    .colab-df-convert:hover {\n",
              "      background-color: #E2EBFA;\n",
              "      box-shadow: 0px 1px 2px rgba(60, 64, 67, 0.3), 0px 1px 3px 1px rgba(60, 64, 67, 0.15);\n",
              "      fill: #174EA6;\n",
              "    }\n",
              "\n",
              "    [theme=dark] .colab-df-convert {\n",
              "      background-color: #3B4455;\n",
              "      fill: #D2E3FC;\n",
              "    }\n",
              "\n",
              "    [theme=dark] .colab-df-convert:hover {\n",
              "      background-color: #434B5C;\n",
              "      box-shadow: 0px 1px 3px 1px rgba(0, 0, 0, 0.15);\n",
              "      filter: drop-shadow(0px 1px 2px rgba(0, 0, 0, 0.3));\n",
              "      fill: #FFFFFF;\n",
              "    }\n",
              "  </style>\n",
              "\n",
              "      <script>\n",
              "        const buttonEl =\n",
              "          document.querySelector('#df-b5fe07c3-d2fe-4401-a394-5ea9df32ab54 button.colab-df-convert');\n",
              "        buttonEl.style.display =\n",
              "          google.colab.kernel.accessAllowed ? 'block' : 'none';\n",
              "\n",
              "        async function convertToInteractive(key) {\n",
              "          const element = document.querySelector('#df-b5fe07c3-d2fe-4401-a394-5ea9df32ab54');\n",
              "          const dataTable =\n",
              "            await google.colab.kernel.invokeFunction('convertToInteractive',\n",
              "                                                     [key], {});\n",
              "          if (!dataTable) return;\n",
              "\n",
              "          const docLinkHtml = 'Like what you see? Visit the ' +\n",
              "            '<a target=\"_blank\" href=https://colab.research.google.com/notebooks/data_table.ipynb>data table notebook</a>'\n",
              "            + ' to learn more about interactive tables.';\n",
              "          element.innerHTML = '';\n",
              "          dataTable['output_type'] = 'display_data';\n",
              "          await google.colab.output.renderOutput(dataTable, element);\n",
              "          const docLink = document.createElement('div');\n",
              "          docLink.innerHTML = docLinkHtml;\n",
              "          element.appendChild(docLink);\n",
              "        }\n",
              "      </script>\n",
              "    </div>\n",
              "  </div>\n",
              "  "
            ]
          },
          "metadata": {},
          "execution_count": 139
        }
      ],
      "source": [
        "df_emo"
      ]
    },
    {
      "cell_type": "code",
      "execution_count": 140,
      "metadata": {
        "colab": {
          "base_uri": "https://localhost:8080/"
        },
        "id": "0vh4zWhIUwfk",
        "outputId": "c0647846-e09b-4b3c-eee6-9907e8310ae0"
      },
      "outputs": [
        {
          "output_type": "stream",
          "name": "stdout",
          "text": [
            "38594\n"
          ]
        }
      ],
      "source": [
        "print(len(df_emo))"
      ]
    },
    {
      "cell_type": "code",
      "execution_count": 141,
      "metadata": {
        "id": "5ti6ZRw2KhDh"
      },
      "outputs": [],
      "source": [
        "df_emo['data'] = df_emo['data'].str.replace(r'[-=+,#/\\?:^$.@*\\\"※~&%ㆍ!』\\\\‘|\\(\\)\\[\\]\\<\\>`\\'…》\\\\n\\t]+', \" \", regex=True)\n",
        "df_emo['data'] = df_emo['data'].str.replace(r'\\t+', \" \", regex=True)\n",
        "df_emo['data'] = df_emo['data'].str.replace(r'[\\\\n]+',\" \", regex=True)"
      ]
    },
    {
      "cell_type": "code",
      "execution_count": 142,
      "metadata": {
        "id": "UxMTZ6LW4Bju"
      },
      "outputs": [],
      "source": [
        "from sklearn.model_selection import train_test_split\n",
        "                                                         \n",
        "train_df, test_df = train_test_split(df_emo, test_size=0.25, random_state=42)"
      ]
    },
    {
      "cell_type": "code",
      "execution_count": 143,
      "metadata": {
        "id": "leelBw7RKP8z"
      },
      "outputs": [],
      "source": [
        "train_df = train_df.reset_index().drop(['index'], axis=1).reset_index()"
      ]
    },
    {
      "cell_type": "code",
      "execution_count": 144,
      "metadata": {
        "colab": {
          "base_uri": "https://localhost:8080/",
          "height": 206
        },
        "id": "o27a3StotstS",
        "outputId": "2ba22336-92a7-4817-c36e-69602f316a4e"
      },
      "outputs": [
        {
          "output_type": "execute_result",
          "data": {
            "text/plain": [
              "   index  category                  data\n",
              "0      0         3           휴  요세 몇일간  \n",
              "1      1         5         백주부님딸바보 되시겠네요\n",
              "2      2         1      헐 게임에서만 보던 오간도;;\n",
              "3      3         3  저 지팡이 아직 못샀는데ㅠㅠㅠ RIP\n",
              "4      4         4     그냥 그럼 축구장을 하나 더 사"
            ],
            "text/html": [
              "\n",
              "  <div id=\"df-5b9d23e9-a29f-44bf-8fab-8cfd24635f26\">\n",
              "    <div class=\"colab-df-container\">\n",
              "      <div>\n",
              "<style scoped>\n",
              "    .dataframe tbody tr th:only-of-type {\n",
              "        vertical-align: middle;\n",
              "    }\n",
              "\n",
              "    .dataframe tbody tr th {\n",
              "        vertical-align: top;\n",
              "    }\n",
              "\n",
              "    .dataframe thead th {\n",
              "        text-align: right;\n",
              "    }\n",
              "</style>\n",
              "<table border=\"1\" class=\"dataframe\">\n",
              "  <thead>\n",
              "    <tr style=\"text-align: right;\">\n",
              "      <th></th>\n",
              "      <th>index</th>\n",
              "      <th>category</th>\n",
              "      <th>data</th>\n",
              "    </tr>\n",
              "  </thead>\n",
              "  <tbody>\n",
              "    <tr>\n",
              "      <th>0</th>\n",
              "      <td>0</td>\n",
              "      <td>3</td>\n",
              "      <td>휴  요세 몇일간</td>\n",
              "    </tr>\n",
              "    <tr>\n",
              "      <th>1</th>\n",
              "      <td>1</td>\n",
              "      <td>5</td>\n",
              "      <td>백주부님딸바보 되시겠네요</td>\n",
              "    </tr>\n",
              "    <tr>\n",
              "      <th>2</th>\n",
              "      <td>2</td>\n",
              "      <td>1</td>\n",
              "      <td>헐 게임에서만 보던 오간도;;</td>\n",
              "    </tr>\n",
              "    <tr>\n",
              "      <th>3</th>\n",
              "      <td>3</td>\n",
              "      <td>3</td>\n",
              "      <td>저 지팡이 아직 못샀는데ㅠㅠㅠ RIP</td>\n",
              "    </tr>\n",
              "    <tr>\n",
              "      <th>4</th>\n",
              "      <td>4</td>\n",
              "      <td>4</td>\n",
              "      <td>그냥 그럼 축구장을 하나 더 사</td>\n",
              "    </tr>\n",
              "  </tbody>\n",
              "</table>\n",
              "</div>\n",
              "      <button class=\"colab-df-convert\" onclick=\"convertToInteractive('df-5b9d23e9-a29f-44bf-8fab-8cfd24635f26')\"\n",
              "              title=\"Convert this dataframe to an interactive table.\"\n",
              "              style=\"display:none;\">\n",
              "        \n",
              "  <svg xmlns=\"http://www.w3.org/2000/svg\" height=\"24px\"viewBox=\"0 0 24 24\"\n",
              "       width=\"24px\">\n",
              "    <path d=\"M0 0h24v24H0V0z\" fill=\"none\"/>\n",
              "    <path d=\"M18.56 5.44l.94 2.06.94-2.06 2.06-.94-2.06-.94-.94-2.06-.94 2.06-2.06.94zm-11 1L8.5 8.5l.94-2.06 2.06-.94-2.06-.94L8.5 2.5l-.94 2.06-2.06.94zm10 10l.94 2.06.94-2.06 2.06-.94-2.06-.94-.94-2.06-.94 2.06-2.06.94z\"/><path d=\"M17.41 7.96l-1.37-1.37c-.4-.4-.92-.59-1.43-.59-.52 0-1.04.2-1.43.59L10.3 9.45l-7.72 7.72c-.78.78-.78 2.05 0 2.83L4 21.41c.39.39.9.59 1.41.59.51 0 1.02-.2 1.41-.59l7.78-7.78 2.81-2.81c.8-.78.8-2.07 0-2.86zM5.41 20L4 18.59l7.72-7.72 1.47 1.35L5.41 20z\"/>\n",
              "  </svg>\n",
              "      </button>\n",
              "      \n",
              "  <style>\n",
              "    .colab-df-container {\n",
              "      display:flex;\n",
              "      flex-wrap:wrap;\n",
              "      gap: 12px;\n",
              "    }\n",
              "\n",
              "    .colab-df-convert {\n",
              "      background-color: #E8F0FE;\n",
              "      border: none;\n",
              "      border-radius: 50%;\n",
              "      cursor: pointer;\n",
              "      display: none;\n",
              "      fill: #1967D2;\n",
              "      height: 32px;\n",
              "      padding: 0 0 0 0;\n",
              "      width: 32px;\n",
              "    }\n",
              "\n",
              "    .colab-df-convert:hover {\n",
              "      background-color: #E2EBFA;\n",
              "      box-shadow: 0px 1px 2px rgba(60, 64, 67, 0.3), 0px 1px 3px 1px rgba(60, 64, 67, 0.15);\n",
              "      fill: #174EA6;\n",
              "    }\n",
              "\n",
              "    [theme=dark] .colab-df-convert {\n",
              "      background-color: #3B4455;\n",
              "      fill: #D2E3FC;\n",
              "    }\n",
              "\n",
              "    [theme=dark] .colab-df-convert:hover {\n",
              "      background-color: #434B5C;\n",
              "      box-shadow: 0px 1px 3px 1px rgba(0, 0, 0, 0.15);\n",
              "      filter: drop-shadow(0px 1px 2px rgba(0, 0, 0, 0.3));\n",
              "      fill: #FFFFFF;\n",
              "    }\n",
              "  </style>\n",
              "\n",
              "      <script>\n",
              "        const buttonEl =\n",
              "          document.querySelector('#df-5b9d23e9-a29f-44bf-8fab-8cfd24635f26 button.colab-df-convert');\n",
              "        buttonEl.style.display =\n",
              "          google.colab.kernel.accessAllowed ? 'block' : 'none';\n",
              "\n",
              "        async function convertToInteractive(key) {\n",
              "          const element = document.querySelector('#df-5b9d23e9-a29f-44bf-8fab-8cfd24635f26');\n",
              "          const dataTable =\n",
              "            await google.colab.kernel.invokeFunction('convertToInteractive',\n",
              "                                                     [key], {});\n",
              "          if (!dataTable) return;\n",
              "\n",
              "          const docLinkHtml = 'Like what you see? Visit the ' +\n",
              "            '<a target=\"_blank\" href=https://colab.research.google.com/notebooks/data_table.ipynb>data table notebook</a>'\n",
              "            + ' to learn more about interactive tables.';\n",
              "          element.innerHTML = '';\n",
              "          dataTable['output_type'] = 'display_data';\n",
              "          await google.colab.output.renderOutput(dataTable, element);\n",
              "          const docLink = document.createElement('div');\n",
              "          docLink.innerHTML = docLinkHtml;\n",
              "          element.appendChild(docLink);\n",
              "        }\n",
              "      </script>\n",
              "    </div>\n",
              "  </div>\n",
              "  "
            ]
          },
          "metadata": {},
          "execution_count": 144
        }
      ],
      "source": [
        "train_df.head()"
      ]
    },
    {
      "cell_type": "code",
      "execution_count": 145,
      "metadata": {
        "colab": {
          "base_uri": "https://localhost:8080/"
        },
        "id": "cnCNF4LD4Bha",
        "outputId": "0d7858cf-16e5-49ee-ef41-43e4b7ced0eb"
      },
      "outputs": [
        {
          "output_type": "execute_result",
          "data": {
            "text/plain": [
              "5    4534\n",
              "1    4414\n",
              "2    4245\n",
              "0    4090\n",
              "6    4029\n",
              "3    3995\n",
              "4    3638\n",
              "Name: category, dtype: int64"
            ]
          },
          "metadata": {},
          "execution_count": 145
        }
      ],
      "source": [
        "train_df['category'].value_counts()"
      ]
    },
    {
      "cell_type": "code",
      "execution_count": 146,
      "metadata": {
        "colab": {
          "base_uri": "https://localhost:8080/"
        },
        "id": "onh-nyWohiVV",
        "outputId": "20a43d9d-b28c-4528-dcc7-da45a1fad0ea"
      },
      "outputs": [
        {
          "output_type": "execute_result",
          "data": {
            "text/plain": [
              "28945"
            ]
          },
          "metadata": {},
          "execution_count": 146
        }
      ],
      "source": [
        "len(train_df)"
      ]
    },
    {
      "cell_type": "markdown",
      "metadata": {
        "id": "fvReCuO2fSyR"
      },
      "source": [
        "### Test data 가져오기"
      ]
    },
    {
      "cell_type": "code",
      "execution_count": 177,
      "metadata": {
        "id": "aEumGYygzXax"
      },
      "outputs": [],
      "source": [
        "review = pd.read_csv('/content/drive/MyDrive/code_states/cp1/review_table.csv')"
      ]
    },
    {
      "cell_type": "code",
      "execution_count": 178,
      "metadata": {
        "colab": {
          "base_uri": "https://localhost:8080/",
          "height": 206
        },
        "id": "NimoK2YWzXdF",
        "outputId": "1701d986-1770-404c-96fe-2ad41e3f7f4b"
      },
      "outputs": [
        {
          "output_type": "execute_result",
          "data": {
            "text/plain": [
              "            isbn     user_id  score  \\\n",
              "0  9791191825435    gkxmzbsl     10   \n",
              "1  9791191825435          닉닉     10   \n",
              "2  9791191825435         zin     10   \n",
              "3  9791191825435       이쁜카라얌     10   \n",
              "4  9791191825435  feelingood     10   \n",
              "\n",
              "                                         rev_content  \n",
              "0  이 전에 3,4권도 요리의 ‘요‘자도 알지못하던 저한테 있어서 빛과 같은 희망을 준...  \n",
              "1  이전 책들도 구입했는데, 집밥 먹을때는 거의 항상 디디미니님 레시피 따라하게 되더라...  \n",
              "2  드디어 나왔나요!!!바로 주문합니다!!! 책 잘 보고 다이어트 도전 해볼께요!!! ...  \n",
              "3  요 앞 버젼 사려다가 최신간으로 구매 했어요다이어트를 해도 점점 찌는 나 드디어 굴...  \n",
              "4  디디미니 언니 레시피 언제나 믿고 만들어먹어요~ 이번 책엔 또 어떤 맛있는 레시피가...  "
            ],
            "text/html": [
              "\n",
              "  <div id=\"df-ce5249ae-96ba-48a5-aff7-0f5afab69d8a\">\n",
              "    <div class=\"colab-df-container\">\n",
              "      <div>\n",
              "<style scoped>\n",
              "    .dataframe tbody tr th:only-of-type {\n",
              "        vertical-align: middle;\n",
              "    }\n",
              "\n",
              "    .dataframe tbody tr th {\n",
              "        vertical-align: top;\n",
              "    }\n",
              "\n",
              "    .dataframe thead th {\n",
              "        text-align: right;\n",
              "    }\n",
              "</style>\n",
              "<table border=\"1\" class=\"dataframe\">\n",
              "  <thead>\n",
              "    <tr style=\"text-align: right;\">\n",
              "      <th></th>\n",
              "      <th>isbn</th>\n",
              "      <th>user_id</th>\n",
              "      <th>score</th>\n",
              "      <th>rev_content</th>\n",
              "    </tr>\n",
              "  </thead>\n",
              "  <tbody>\n",
              "    <tr>\n",
              "      <th>0</th>\n",
              "      <td>9791191825435</td>\n",
              "      <td>gkxmzbsl</td>\n",
              "      <td>10</td>\n",
              "      <td>이 전에 3,4권도 요리의 ‘요‘자도 알지못하던 저한테 있어서 빛과 같은 희망을 준...</td>\n",
              "    </tr>\n",
              "    <tr>\n",
              "      <th>1</th>\n",
              "      <td>9791191825435</td>\n",
              "      <td>닉닉</td>\n",
              "      <td>10</td>\n",
              "      <td>이전 책들도 구입했는데, 집밥 먹을때는 거의 항상 디디미니님 레시피 따라하게 되더라...</td>\n",
              "    </tr>\n",
              "    <tr>\n",
              "      <th>2</th>\n",
              "      <td>9791191825435</td>\n",
              "      <td>zin</td>\n",
              "      <td>10</td>\n",
              "      <td>드디어 나왔나요!!!바로 주문합니다!!! 책 잘 보고 다이어트 도전 해볼께요!!! ...</td>\n",
              "    </tr>\n",
              "    <tr>\n",
              "      <th>3</th>\n",
              "      <td>9791191825435</td>\n",
              "      <td>이쁜카라얌</td>\n",
              "      <td>10</td>\n",
              "      <td>요 앞 버젼 사려다가 최신간으로 구매 했어요다이어트를 해도 점점 찌는 나 드디어 굴...</td>\n",
              "    </tr>\n",
              "    <tr>\n",
              "      <th>4</th>\n",
              "      <td>9791191825435</td>\n",
              "      <td>feelingood</td>\n",
              "      <td>10</td>\n",
              "      <td>디디미니 언니 레시피 언제나 믿고 만들어먹어요~ 이번 책엔 또 어떤 맛있는 레시피가...</td>\n",
              "    </tr>\n",
              "  </tbody>\n",
              "</table>\n",
              "</div>\n",
              "      <button class=\"colab-df-convert\" onclick=\"convertToInteractive('df-ce5249ae-96ba-48a5-aff7-0f5afab69d8a')\"\n",
              "              title=\"Convert this dataframe to an interactive table.\"\n",
              "              style=\"display:none;\">\n",
              "        \n",
              "  <svg xmlns=\"http://www.w3.org/2000/svg\" height=\"24px\"viewBox=\"0 0 24 24\"\n",
              "       width=\"24px\">\n",
              "    <path d=\"M0 0h24v24H0V0z\" fill=\"none\"/>\n",
              "    <path d=\"M18.56 5.44l.94 2.06.94-2.06 2.06-.94-2.06-.94-.94-2.06-.94 2.06-2.06.94zm-11 1L8.5 8.5l.94-2.06 2.06-.94-2.06-.94L8.5 2.5l-.94 2.06-2.06.94zm10 10l.94 2.06.94-2.06 2.06-.94-2.06-.94-.94-2.06-.94 2.06-2.06.94z\"/><path d=\"M17.41 7.96l-1.37-1.37c-.4-.4-.92-.59-1.43-.59-.52 0-1.04.2-1.43.59L10.3 9.45l-7.72 7.72c-.78.78-.78 2.05 0 2.83L4 21.41c.39.39.9.59 1.41.59.51 0 1.02-.2 1.41-.59l7.78-7.78 2.81-2.81c.8-.78.8-2.07 0-2.86zM5.41 20L4 18.59l7.72-7.72 1.47 1.35L5.41 20z\"/>\n",
              "  </svg>\n",
              "      </button>\n",
              "      \n",
              "  <style>\n",
              "    .colab-df-container {\n",
              "      display:flex;\n",
              "      flex-wrap:wrap;\n",
              "      gap: 12px;\n",
              "    }\n",
              "\n",
              "    .colab-df-convert {\n",
              "      background-color: #E8F0FE;\n",
              "      border: none;\n",
              "      border-radius: 50%;\n",
              "      cursor: pointer;\n",
              "      display: none;\n",
              "      fill: #1967D2;\n",
              "      height: 32px;\n",
              "      padding: 0 0 0 0;\n",
              "      width: 32px;\n",
              "    }\n",
              "\n",
              "    .colab-df-convert:hover {\n",
              "      background-color: #E2EBFA;\n",
              "      box-shadow: 0px 1px 2px rgba(60, 64, 67, 0.3), 0px 1px 3px 1px rgba(60, 64, 67, 0.15);\n",
              "      fill: #174EA6;\n",
              "    }\n",
              "\n",
              "    [theme=dark] .colab-df-convert {\n",
              "      background-color: #3B4455;\n",
              "      fill: #D2E3FC;\n",
              "    }\n",
              "\n",
              "    [theme=dark] .colab-df-convert:hover {\n",
              "      background-color: #434B5C;\n",
              "      box-shadow: 0px 1px 3px 1px rgba(0, 0, 0, 0.15);\n",
              "      filter: drop-shadow(0px 1px 2px rgba(0, 0, 0, 0.3));\n",
              "      fill: #FFFFFF;\n",
              "    }\n",
              "  </style>\n",
              "\n",
              "      <script>\n",
              "        const buttonEl =\n",
              "          document.querySelector('#df-ce5249ae-96ba-48a5-aff7-0f5afab69d8a button.colab-df-convert');\n",
              "        buttonEl.style.display =\n",
              "          google.colab.kernel.accessAllowed ? 'block' : 'none';\n",
              "\n",
              "        async function convertToInteractive(key) {\n",
              "          const element = document.querySelector('#df-ce5249ae-96ba-48a5-aff7-0f5afab69d8a');\n",
              "          const dataTable =\n",
              "            await google.colab.kernel.invokeFunction('convertToInteractive',\n",
              "                                                     [key], {});\n",
              "          if (!dataTable) return;\n",
              "\n",
              "          const docLinkHtml = 'Like what you see? Visit the ' +\n",
              "            '<a target=\"_blank\" href=https://colab.research.google.com/notebooks/data_table.ipynb>data table notebook</a>'\n",
              "            + ' to learn more about interactive tables.';\n",
              "          element.innerHTML = '';\n",
              "          dataTable['output_type'] = 'display_data';\n",
              "          await google.colab.output.renderOutput(dataTable, element);\n",
              "          const docLink = document.createElement('div');\n",
              "          docLink.innerHTML = docLinkHtml;\n",
              "          element.appendChild(docLink);\n",
              "        }\n",
              "      </script>\n",
              "    </div>\n",
              "  </div>\n",
              "  "
            ]
          },
          "metadata": {},
          "execution_count": 178
        }
      ],
      "source": [
        "review.head()"
      ]
    },
    {
      "cell_type": "code",
      "execution_count": 179,
      "metadata": {
        "id": "szJofGWHqLXh"
      },
      "outputs": [],
      "source": [
        "review = review.dropna(axis=0)"
      ]
    },
    {
      "cell_type": "code",
      "source": [
        "review = review.reset_index()"
      ],
      "metadata": {
        "id": "b2QR-EKHHA94"
      },
      "execution_count": 180,
      "outputs": []
    },
    {
      "cell_type": "code",
      "source": [
        "review"
      ],
      "metadata": {
        "colab": {
          "base_uri": "https://localhost:8080/",
          "height": 423
        },
        "id": "YMVN325wXByN",
        "outputId": "55b21a80-ddee-488a-856b-2954918394d6"
      },
      "execution_count": 181,
      "outputs": [
        {
          "output_type": "execute_result",
          "data": {
            "text/plain": [
              "       index           isbn     user_id  score  \\\n",
              "0          0  9791191825435    gkxmzbsl     10   \n",
              "1          1  9791191825435          닉닉     10   \n",
              "2          2  9791191825435         zin     10   \n",
              "3          3  9791191825435       이쁜카라얌     10   \n",
              "4          4  9791191825435  feelingood     10   \n",
              "...      ...            ...         ...    ...   \n",
              "16318  17192  9791186561096  gksmfqor12     10   \n",
              "16319  17193  9791186561096        반가워요     10   \n",
              "16320  17194  9791186561096   Polnareff     10   \n",
              "16321  17195  9791186561096   0ijimin0i     10   \n",
              "16322  17196  9791186561096      아몬드빼빼로     10   \n",
              "\n",
              "                                             rev_content  \n",
              "0      이 전에 3,4권도 요리의 ‘요‘자도 알지못하던 저한테 있어서 빛과 같은 희망을 준...  \n",
              "1      이전 책들도 구입했는데, 집밥 먹을때는 거의 항상 디디미니님 레시피 따라하게 되더라...  \n",
              "2      드디어 나왔나요!!!바로 주문합니다!!! 책 잘 보고 다이어트 도전 해볼께요!!! ...  \n",
              "3      요 앞 버젼 사려다가 최신간으로 구매 했어요다이어트를 해도 점점 찌는 나 드디어 굴...  \n",
              "4      디디미니 언니 레시피 언제나 믿고 만들어먹어요~ 이번 책엔 또 어떤 맛있는 레시피가...  \n",
              "...                                                  ...  \n",
              "16318                              여행을 하면 남는건 사진밖에 없다고..  \n",
              "16319                                저도 떠나보고 싶게끔 만드네요 ^^  \n",
              "16320                                  20대만의 재기발랄함이 멋지네요  \n",
              "16321  유럽 여행을 해보지는 못했지만 이책으로 인해 유럽에 대해더 자세히 알 수 있어서 너...  \n",
              "16322  그녀를 통해 알게된 유럽의 곳곳들.자유로운 그녀의 삶이 부럽기도 하네요.저도 지금 ...  \n",
              "\n",
              "[16323 rows x 5 columns]"
            ],
            "text/html": [
              "\n",
              "  <div id=\"df-0af104e1-a430-46b2-8c6d-a45d9b459a56\">\n",
              "    <div class=\"colab-df-container\">\n",
              "      <div>\n",
              "<style scoped>\n",
              "    .dataframe tbody tr th:only-of-type {\n",
              "        vertical-align: middle;\n",
              "    }\n",
              "\n",
              "    .dataframe tbody tr th {\n",
              "        vertical-align: top;\n",
              "    }\n",
              "\n",
              "    .dataframe thead th {\n",
              "        text-align: right;\n",
              "    }\n",
              "</style>\n",
              "<table border=\"1\" class=\"dataframe\">\n",
              "  <thead>\n",
              "    <tr style=\"text-align: right;\">\n",
              "      <th></th>\n",
              "      <th>index</th>\n",
              "      <th>isbn</th>\n",
              "      <th>user_id</th>\n",
              "      <th>score</th>\n",
              "      <th>rev_content</th>\n",
              "    </tr>\n",
              "  </thead>\n",
              "  <tbody>\n",
              "    <tr>\n",
              "      <th>0</th>\n",
              "      <td>0</td>\n",
              "      <td>9791191825435</td>\n",
              "      <td>gkxmzbsl</td>\n",
              "      <td>10</td>\n",
              "      <td>이 전에 3,4권도 요리의 ‘요‘자도 알지못하던 저한테 있어서 빛과 같은 희망을 준...</td>\n",
              "    </tr>\n",
              "    <tr>\n",
              "      <th>1</th>\n",
              "      <td>1</td>\n",
              "      <td>9791191825435</td>\n",
              "      <td>닉닉</td>\n",
              "      <td>10</td>\n",
              "      <td>이전 책들도 구입했는데, 집밥 먹을때는 거의 항상 디디미니님 레시피 따라하게 되더라...</td>\n",
              "    </tr>\n",
              "    <tr>\n",
              "      <th>2</th>\n",
              "      <td>2</td>\n",
              "      <td>9791191825435</td>\n",
              "      <td>zin</td>\n",
              "      <td>10</td>\n",
              "      <td>드디어 나왔나요!!!바로 주문합니다!!! 책 잘 보고 다이어트 도전 해볼께요!!! ...</td>\n",
              "    </tr>\n",
              "    <tr>\n",
              "      <th>3</th>\n",
              "      <td>3</td>\n",
              "      <td>9791191825435</td>\n",
              "      <td>이쁜카라얌</td>\n",
              "      <td>10</td>\n",
              "      <td>요 앞 버젼 사려다가 최신간으로 구매 했어요다이어트를 해도 점점 찌는 나 드디어 굴...</td>\n",
              "    </tr>\n",
              "    <tr>\n",
              "      <th>4</th>\n",
              "      <td>4</td>\n",
              "      <td>9791191825435</td>\n",
              "      <td>feelingood</td>\n",
              "      <td>10</td>\n",
              "      <td>디디미니 언니 레시피 언제나 믿고 만들어먹어요~ 이번 책엔 또 어떤 맛있는 레시피가...</td>\n",
              "    </tr>\n",
              "    <tr>\n",
              "      <th>...</th>\n",
              "      <td>...</td>\n",
              "      <td>...</td>\n",
              "      <td>...</td>\n",
              "      <td>...</td>\n",
              "      <td>...</td>\n",
              "    </tr>\n",
              "    <tr>\n",
              "      <th>16318</th>\n",
              "      <td>17192</td>\n",
              "      <td>9791186561096</td>\n",
              "      <td>gksmfqor12</td>\n",
              "      <td>10</td>\n",
              "      <td>여행을 하면 남는건 사진밖에 없다고..</td>\n",
              "    </tr>\n",
              "    <tr>\n",
              "      <th>16319</th>\n",
              "      <td>17193</td>\n",
              "      <td>9791186561096</td>\n",
              "      <td>반가워요</td>\n",
              "      <td>10</td>\n",
              "      <td>저도 떠나보고 싶게끔 만드네요 ^^</td>\n",
              "    </tr>\n",
              "    <tr>\n",
              "      <th>16320</th>\n",
              "      <td>17194</td>\n",
              "      <td>9791186561096</td>\n",
              "      <td>Polnareff</td>\n",
              "      <td>10</td>\n",
              "      <td>20대만의 재기발랄함이 멋지네요</td>\n",
              "    </tr>\n",
              "    <tr>\n",
              "      <th>16321</th>\n",
              "      <td>17195</td>\n",
              "      <td>9791186561096</td>\n",
              "      <td>0ijimin0i</td>\n",
              "      <td>10</td>\n",
              "      <td>유럽 여행을 해보지는 못했지만 이책으로 인해 유럽에 대해더 자세히 알 수 있어서 너...</td>\n",
              "    </tr>\n",
              "    <tr>\n",
              "      <th>16322</th>\n",
              "      <td>17196</td>\n",
              "      <td>9791186561096</td>\n",
              "      <td>아몬드빼빼로</td>\n",
              "      <td>10</td>\n",
              "      <td>그녀를 통해 알게된 유럽의 곳곳들.자유로운 그녀의 삶이 부럽기도 하네요.저도 지금 ...</td>\n",
              "    </tr>\n",
              "  </tbody>\n",
              "</table>\n",
              "<p>16323 rows × 5 columns</p>\n",
              "</div>\n",
              "      <button class=\"colab-df-convert\" onclick=\"convertToInteractive('df-0af104e1-a430-46b2-8c6d-a45d9b459a56')\"\n",
              "              title=\"Convert this dataframe to an interactive table.\"\n",
              "              style=\"display:none;\">\n",
              "        \n",
              "  <svg xmlns=\"http://www.w3.org/2000/svg\" height=\"24px\"viewBox=\"0 0 24 24\"\n",
              "       width=\"24px\">\n",
              "    <path d=\"M0 0h24v24H0V0z\" fill=\"none\"/>\n",
              "    <path d=\"M18.56 5.44l.94 2.06.94-2.06 2.06-.94-2.06-.94-.94-2.06-.94 2.06-2.06.94zm-11 1L8.5 8.5l.94-2.06 2.06-.94-2.06-.94L8.5 2.5l-.94 2.06-2.06.94zm10 10l.94 2.06.94-2.06 2.06-.94-2.06-.94-.94-2.06-.94 2.06-2.06.94z\"/><path d=\"M17.41 7.96l-1.37-1.37c-.4-.4-.92-.59-1.43-.59-.52 0-1.04.2-1.43.59L10.3 9.45l-7.72 7.72c-.78.78-.78 2.05 0 2.83L4 21.41c.39.39.9.59 1.41.59.51 0 1.02-.2 1.41-.59l7.78-7.78 2.81-2.81c.8-.78.8-2.07 0-2.86zM5.41 20L4 18.59l7.72-7.72 1.47 1.35L5.41 20z\"/>\n",
              "  </svg>\n",
              "      </button>\n",
              "      \n",
              "  <style>\n",
              "    .colab-df-container {\n",
              "      display:flex;\n",
              "      flex-wrap:wrap;\n",
              "      gap: 12px;\n",
              "    }\n",
              "\n",
              "    .colab-df-convert {\n",
              "      background-color: #E8F0FE;\n",
              "      border: none;\n",
              "      border-radius: 50%;\n",
              "      cursor: pointer;\n",
              "      display: none;\n",
              "      fill: #1967D2;\n",
              "      height: 32px;\n",
              "      padding: 0 0 0 0;\n",
              "      width: 32px;\n",
              "    }\n",
              "\n",
              "    .colab-df-convert:hover {\n",
              "      background-color: #E2EBFA;\n",
              "      box-shadow: 0px 1px 2px rgba(60, 64, 67, 0.3), 0px 1px 3px 1px rgba(60, 64, 67, 0.15);\n",
              "      fill: #174EA6;\n",
              "    }\n",
              "\n",
              "    [theme=dark] .colab-df-convert {\n",
              "      background-color: #3B4455;\n",
              "      fill: #D2E3FC;\n",
              "    }\n",
              "\n",
              "    [theme=dark] .colab-df-convert:hover {\n",
              "      background-color: #434B5C;\n",
              "      box-shadow: 0px 1px 3px 1px rgba(0, 0, 0, 0.15);\n",
              "      filter: drop-shadow(0px 1px 2px rgba(0, 0, 0, 0.3));\n",
              "      fill: #FFFFFF;\n",
              "    }\n",
              "  </style>\n",
              "\n",
              "      <script>\n",
              "        const buttonEl =\n",
              "          document.querySelector('#df-0af104e1-a430-46b2-8c6d-a45d9b459a56 button.colab-df-convert');\n",
              "        buttonEl.style.display =\n",
              "          google.colab.kernel.accessAllowed ? 'block' : 'none';\n",
              "\n",
              "        async function convertToInteractive(key) {\n",
              "          const element = document.querySelector('#df-0af104e1-a430-46b2-8c6d-a45d9b459a56');\n",
              "          const dataTable =\n",
              "            await google.colab.kernel.invokeFunction('convertToInteractive',\n",
              "                                                     [key], {});\n",
              "          if (!dataTable) return;\n",
              "\n",
              "          const docLinkHtml = 'Like what you see? Visit the ' +\n",
              "            '<a target=\"_blank\" href=https://colab.research.google.com/notebooks/data_table.ipynb>data table notebook</a>'\n",
              "            + ' to learn more about interactive tables.';\n",
              "          element.innerHTML = '';\n",
              "          dataTable['output_type'] = 'display_data';\n",
              "          await google.colab.output.renderOutput(dataTable, element);\n",
              "          const docLink = document.createElement('div');\n",
              "          docLink.innerHTML = docLinkHtml;\n",
              "          element.appendChild(docLink);\n",
              "        }\n",
              "      </script>\n",
              "    </div>\n",
              "  </div>\n",
              "  "
            ]
          },
          "metadata": {},
          "execution_count": 181
        }
      ]
    },
    {
      "cell_type": "code",
      "execution_count": 182,
      "metadata": {
        "id": "Cwkp7IHU6pac"
      },
      "outputs": [],
      "source": [
        "test_list = []\n",
        "for q in review['rev_content']:\n",
        "    data = []\n",
        "    data.append(q)\n",
        "\n",
        "    test_list.append(data)"
      ]
    },
    {
      "cell_type": "code",
      "execution_count": 183,
      "metadata": {
        "id": "UHGONVKC7VNh"
      },
      "outputs": [],
      "source": [
        "test_set = pd.DataFrame(test_list, columns=['data'])\n",
        "test_set = test_set.reset_index().drop(['index'], axis=1).reset_index()"
      ]
    },
    {
      "cell_type": "code",
      "execution_count": 184,
      "metadata": {
        "id": "jKrYV8Hi8EUb"
      },
      "outputs": [],
      "source": [
        "test_set['data'] = test_set['data'].str.replace(r'[-=+,#/\\?:^$.@*\\\"※~&%ㆍ!』\\\\‘|\\(\\)\\[\\]\\<\\>`\\'…》\\\\n\\t]+', \" \", regex=True)\n",
        "test_set['data'] = test_set['data'].str.replace(r'\\t+', \" \", regex=True)\n",
        "test_set['data'] = test_set['data'].str.replace(r'[\\\\n]+',\" \", regex=True)"
      ]
    },
    {
      "cell_type": "code",
      "execution_count": 154,
      "metadata": {
        "colab": {
          "base_uri": "https://localhost:8080/",
          "height": 206
        },
        "id": "2fCKDF-KpODG",
        "outputId": "503c8cd9-557e-400c-fbd2-3251d21ce00e"
      },
      "outputs": [
        {
          "output_type": "execute_result",
          "data": {
            "text/plain": [
              "   index                                               data\n",
              "0      0  이 전에 3 4권도 요리의  요 자도 알지못하던 저한테 있어서 빛과 같은 희망을 준...\n",
              "1      1  이전 책들도 구입했는데  집밥 먹을때는 거의 항상 디디미니님 레시피 따라하게 되더라...\n",
              "2      2  드디어 나왔나요 바로 주문합니다  책 잘 보고 다이어트 도전 해볼께요  지긋지긋한 ...\n",
              "3      3  요 앞 버젼 사려다가 최신간으로 구매 했어요다이어트를 해도 점점 찌는 나 드디어 굴...\n",
              "4      4  디디미니 언니 레시피 언제나 믿고 만들어먹어요  이번 책엔 또 어떤 맛있는 레시피가..."
            ],
            "text/html": [
              "\n",
              "  <div id=\"df-2d8e16c7-0bb0-47e5-9061-b48f7e530dcd\">\n",
              "    <div class=\"colab-df-container\">\n",
              "      <div>\n",
              "<style scoped>\n",
              "    .dataframe tbody tr th:only-of-type {\n",
              "        vertical-align: middle;\n",
              "    }\n",
              "\n",
              "    .dataframe tbody tr th {\n",
              "        vertical-align: top;\n",
              "    }\n",
              "\n",
              "    .dataframe thead th {\n",
              "        text-align: right;\n",
              "    }\n",
              "</style>\n",
              "<table border=\"1\" class=\"dataframe\">\n",
              "  <thead>\n",
              "    <tr style=\"text-align: right;\">\n",
              "      <th></th>\n",
              "      <th>index</th>\n",
              "      <th>data</th>\n",
              "    </tr>\n",
              "  </thead>\n",
              "  <tbody>\n",
              "    <tr>\n",
              "      <th>0</th>\n",
              "      <td>0</td>\n",
              "      <td>이 전에 3 4권도 요리의  요 자도 알지못하던 저한테 있어서 빛과 같은 희망을 준...</td>\n",
              "    </tr>\n",
              "    <tr>\n",
              "      <th>1</th>\n",
              "      <td>1</td>\n",
              "      <td>이전 책들도 구입했는데  집밥 먹을때는 거의 항상 디디미니님 레시피 따라하게 되더라...</td>\n",
              "    </tr>\n",
              "    <tr>\n",
              "      <th>2</th>\n",
              "      <td>2</td>\n",
              "      <td>드디어 나왔나요 바로 주문합니다  책 잘 보고 다이어트 도전 해볼께요  지긋지긋한 ...</td>\n",
              "    </tr>\n",
              "    <tr>\n",
              "      <th>3</th>\n",
              "      <td>3</td>\n",
              "      <td>요 앞 버젼 사려다가 최신간으로 구매 했어요다이어트를 해도 점점 찌는 나 드디어 굴...</td>\n",
              "    </tr>\n",
              "    <tr>\n",
              "      <th>4</th>\n",
              "      <td>4</td>\n",
              "      <td>디디미니 언니 레시피 언제나 믿고 만들어먹어요  이번 책엔 또 어떤 맛있는 레시피가...</td>\n",
              "    </tr>\n",
              "  </tbody>\n",
              "</table>\n",
              "</div>\n",
              "      <button class=\"colab-df-convert\" onclick=\"convertToInteractive('df-2d8e16c7-0bb0-47e5-9061-b48f7e530dcd')\"\n",
              "              title=\"Convert this dataframe to an interactive table.\"\n",
              "              style=\"display:none;\">\n",
              "        \n",
              "  <svg xmlns=\"http://www.w3.org/2000/svg\" height=\"24px\"viewBox=\"0 0 24 24\"\n",
              "       width=\"24px\">\n",
              "    <path d=\"M0 0h24v24H0V0z\" fill=\"none\"/>\n",
              "    <path d=\"M18.56 5.44l.94 2.06.94-2.06 2.06-.94-2.06-.94-.94-2.06-.94 2.06-2.06.94zm-11 1L8.5 8.5l.94-2.06 2.06-.94-2.06-.94L8.5 2.5l-.94 2.06-2.06.94zm10 10l.94 2.06.94-2.06 2.06-.94-2.06-.94-.94-2.06-.94 2.06-2.06.94z\"/><path d=\"M17.41 7.96l-1.37-1.37c-.4-.4-.92-.59-1.43-.59-.52 0-1.04.2-1.43.59L10.3 9.45l-7.72 7.72c-.78.78-.78 2.05 0 2.83L4 21.41c.39.39.9.59 1.41.59.51 0 1.02-.2 1.41-.59l7.78-7.78 2.81-2.81c.8-.78.8-2.07 0-2.86zM5.41 20L4 18.59l7.72-7.72 1.47 1.35L5.41 20z\"/>\n",
              "  </svg>\n",
              "      </button>\n",
              "      \n",
              "  <style>\n",
              "    .colab-df-container {\n",
              "      display:flex;\n",
              "      flex-wrap:wrap;\n",
              "      gap: 12px;\n",
              "    }\n",
              "\n",
              "    .colab-df-convert {\n",
              "      background-color: #E8F0FE;\n",
              "      border: none;\n",
              "      border-radius: 50%;\n",
              "      cursor: pointer;\n",
              "      display: none;\n",
              "      fill: #1967D2;\n",
              "      height: 32px;\n",
              "      padding: 0 0 0 0;\n",
              "      width: 32px;\n",
              "    }\n",
              "\n",
              "    .colab-df-convert:hover {\n",
              "      background-color: #E2EBFA;\n",
              "      box-shadow: 0px 1px 2px rgba(60, 64, 67, 0.3), 0px 1px 3px 1px rgba(60, 64, 67, 0.15);\n",
              "      fill: #174EA6;\n",
              "    }\n",
              "\n",
              "    [theme=dark] .colab-df-convert {\n",
              "      background-color: #3B4455;\n",
              "      fill: #D2E3FC;\n",
              "    }\n",
              "\n",
              "    [theme=dark] .colab-df-convert:hover {\n",
              "      background-color: #434B5C;\n",
              "      box-shadow: 0px 1px 3px 1px rgba(0, 0, 0, 0.15);\n",
              "      filter: drop-shadow(0px 1px 2px rgba(0, 0, 0, 0.3));\n",
              "      fill: #FFFFFF;\n",
              "    }\n",
              "  </style>\n",
              "\n",
              "      <script>\n",
              "        const buttonEl =\n",
              "          document.querySelector('#df-2d8e16c7-0bb0-47e5-9061-b48f7e530dcd button.colab-df-convert');\n",
              "        buttonEl.style.display =\n",
              "          google.colab.kernel.accessAllowed ? 'block' : 'none';\n",
              "\n",
              "        async function convertToInteractive(key) {\n",
              "          const element = document.querySelector('#df-2d8e16c7-0bb0-47e5-9061-b48f7e530dcd');\n",
              "          const dataTable =\n",
              "            await google.colab.kernel.invokeFunction('convertToInteractive',\n",
              "                                                     [key], {});\n",
              "          if (!dataTable) return;\n",
              "\n",
              "          const docLinkHtml = 'Like what you see? Visit the ' +\n",
              "            '<a target=\"_blank\" href=https://colab.research.google.com/notebooks/data_table.ipynb>data table notebook</a>'\n",
              "            + ' to learn more about interactive tables.';\n",
              "          element.innerHTML = '';\n",
              "          dataTable['output_type'] = 'display_data';\n",
              "          await google.colab.output.renderOutput(dataTable, element);\n",
              "          const docLink = document.createElement('div');\n",
              "          docLink.innerHTML = docLinkHtml;\n",
              "          element.appendChild(docLink);\n",
              "        }\n",
              "      </script>\n",
              "    </div>\n",
              "  </div>\n",
              "  "
            ]
          },
          "metadata": {},
          "execution_count": 154
        }
      ],
      "source": [
        "test_set.head()"
      ]
    },
    {
      "cell_type": "markdown",
      "source": [
        "## 2. 사용할 Bert 모델 구축\n",
        "- 이미 학습되어 있는 Bert모형에 train data를 학습시켜준다.\n",
        "    - 이를 위해, train data를 bert 모형 input에 맞게 바꾸어준다.\n",
        "- train data가 적용된 bert 모델의 마지막 부분에 목적에 맞는 output layer를 정의한다.\n",
        "    - 감정 label이 모두 7개이므로, `softmax` 함수를 사용하고, 7개의 노드로 구현한다."
      ],
      "metadata": {
        "id": "MlubAo19dmCg"
      }
    },
    {
      "cell_type": "code",
      "execution_count": null,
      "metadata": {
        "id": "NhN0L2xlUz6-"
      },
      "outputs": [],
      "source": [
        "# bert input 만들기\n",
        "\n",
        "tokenizer = BertTokenizer.from_pretrained('bert-base-multilingual-cased')"
      ]
    },
    {
      "cell_type": "code",
      "execution_count": 156,
      "metadata": {
        "colab": {
          "base_uri": "https://localhost:8080/"
        },
        "id": "yf7LY7ZVJSZM",
        "outputId": "2b1ea29f-e9bf-4eaf-cc85-0a12869b01ff"
      },
      "outputs": [
        {
          "output_type": "stream",
          "name": "stderr",
          "text": [
            "100%|██████████| 28945/28945 [00:10<00:00, 2802.07it/s]\n"
          ]
        }
      ],
      "source": [
        "# train data를 bert model input 에 맞게 변환해주는 함수\n",
        "\n",
        "def convert_data(data_df):\n",
        "    global tokenizer\n",
        "    \n",
        "    SEQ_LEN = 512 #SEQ_LEN : 버트에 들어갈 인풋의 길이\n",
        "    \n",
        "    tokens, masks, segments, targets = [], [], [], []\n",
        "    \n",
        "    for i in tqdm(range(len(data_df)), position=0, leave=True):\n",
        "        # token : 문장을 토큰화함\n",
        "        # 우리가 입력할 데이터를 토큰화 한다.\n",
        "        token = tokenizer.encode(data_df[DATA_COLUMN][i], max_length=SEQ_LEN, truncation = True, padding='max_length')\n",
        "       \n",
        "        # 마스크는 토큰화한 문장에서 패딩이 아닌 부분은 1, 패딩인 부분은 0으로 통일\n",
        "        # 최대 길이의 문장에 맞춰 단어가 없는 문장은 0으로 패딩처리\n",
        "        num_zeros = token.count(0)\n",
        "        mask = [1]*(SEQ_LEN-num_zeros) + [0]*num_zeros\n",
        "        \n",
        "        # 문장의 전후관계를 구분해주는 세그먼트는 문장이 1개밖에 없으므로 모두 0\n",
        "        # 만약, 문장이 대화 형식이었으면 문장의 전후관계를 나타내주는 세그먼트의 구분이 필요\n",
        "        segment = [0]*SEQ_LEN\n",
        "\n",
        "        # 버트 인풋으로 들어가는 token, mask, segment를 tokens, segments에 각각 저장\n",
        "        tokens.append(token)\n",
        "        masks.append(mask)\n",
        "        segments.append(segment)\n",
        "        \n",
        "        # 정답(감정 인덱싱)을 targets 변수에 저장해 줌\n",
        "        targets.append(data_df[LABEL_COLUMN][i])\n",
        "\n",
        "    # tokens, masks, segments, 정답 변수 targets를 numpy array로 지정    \n",
        "    tokens = np.array(tokens)\n",
        "    masks = np.array(masks)\n",
        "    segments = np.array(segments)\n",
        "    targets = np.array(targets)\n",
        "\n",
        "    return [tokens, masks, segments], targets\n",
        "\n",
        "# 위에 정의한 convert_data 함수를 불러오는 함수를 정의\n",
        "def load_data(pandas_dataframe):\n",
        "    data_df = pandas_dataframe\n",
        "    data_df[DATA_COLUMN] = data_df[DATA_COLUMN].astype(str)\n",
        "    data_df[LABEL_COLUMN] = data_df[LABEL_COLUMN].astype(int)\n",
        "    data_x, data_y = convert_data(data_df)\n",
        "    return data_x, data_y\n",
        "\n",
        "SEQ_LEN = 512\n",
        "BATCH_SIZE = 20\n",
        "# 긍부정 문장을 포함하고 있는 칼럼\n",
        "DATA_COLUMN = \"data\"\n",
        "# 긍정인지 부정인지를 (감정 인덱싱) 포함하고 있는 칼럼\n",
        "LABEL_COLUMN = \"category\"\n",
        "\n",
        "# train 데이터를 버트 인풋에 맞게 변환\n",
        "train_x, train_y = load_data(train_df)"
      ]
    },
    {
      "cell_type": "code",
      "execution_count": null,
      "metadata": {
        "id": "9zd10M_FLyox"
      },
      "outputs": [],
      "source": [
        ""
      ]
    },
    {
      "cell_type": "code",
      "execution_count": 157,
      "metadata": {
        "colab": {
          "base_uri": "https://localhost:8080/"
        },
        "id": "w7oYXelJyN0D",
        "outputId": "5d620ffc-744e-49ef-85ed-73a119b1d336"
      },
      "outputs": [
        {
          "output_type": "stream",
          "name": "stdout",
          "text": [
            "INFO:tensorflow:Deallocate tpu buffers before initializing tpu system.\n"
          ]
        },
        {
          "output_type": "stream",
          "name": "stderr",
          "text": [
            "INFO:tensorflow:Deallocate tpu buffers before initializing tpu system.\n"
          ]
        },
        {
          "output_type": "stream",
          "name": "stdout",
          "text": [
            "INFO:tensorflow:Initializing the TPU system: grpc://10.110.32.242:8470\n"
          ]
        },
        {
          "output_type": "stream",
          "name": "stderr",
          "text": [
            "INFO:tensorflow:Initializing the TPU system: grpc://10.110.32.242:8470\n"
          ]
        },
        {
          "output_type": "stream",
          "name": "stdout",
          "text": [
            "INFO:tensorflow:Finished initializing TPU system.\n"
          ]
        },
        {
          "output_type": "stream",
          "name": "stderr",
          "text": [
            "INFO:tensorflow:Finished initializing TPU system.\n"
          ]
        },
        {
          "output_type": "execute_result",
          "data": {
            "text/plain": [
              "<tensorflow.python.tpu.topology.Topology at 0x7f64d634c4d0>"
            ]
          },
          "metadata": {},
          "execution_count": 157
        }
      ],
      "source": [
        "# TPU 객체 만들기\n",
        "resolver = tf.distribute.cluster_resolver.TPUClusterResolver(tpu='grpc://' + os.environ['COLAB_TPU_ADDR'])\n",
        "tf.config.experimental_connect_to_cluster(resolver)\n",
        "tf.tpu.experimental.initialize_tpu_system(resolver)"
      ]
    },
    {
      "cell_type": "code",
      "execution_count": 158,
      "metadata": {
        "colab": {
          "base_uri": "https://localhost:8080/"
        },
        "id": "teJJfZXZvu9Z",
        "outputId": "257f388d-9f47-4897-ea5b-a9134c077cac"
      },
      "outputs": [
        {
          "output_type": "stream",
          "name": "stdout",
          "text": [
            "Looking in indexes: https://pypi.org/simple, https://us-python.pkg.dev/colab-wheels/public/simple/\n",
            "Collecting tensorflow_addons\n",
            "  Downloading tensorflow_addons-0.17.1-cp37-cp37m-manylinux_2_17_x86_64.manylinux2014_x86_64.whl (1.1 MB)\n",
            "\u001b[K     |████████████████████████████████| 1.1 MB 5.3 MB/s \n",
            "\u001b[?25hRequirement already satisfied: typeguard>=2.7 in /usr/local/lib/python3.7/dist-packages (from tensorflow_addons) (2.7.1)\n",
            "Requirement already satisfied: packaging in /usr/local/lib/python3.7/dist-packages (from tensorflow_addons) (21.3)\n",
            "Requirement already satisfied: pyparsing!=3.0.5,>=2.0.2 in /usr/local/lib/python3.7/dist-packages (from packaging->tensorflow_addons) (3.0.9)\n",
            "Installing collected packages: tensorflow-addons\n",
            "Successfully installed tensorflow-addons-0.17.1\n"
          ]
        }
      ],
      "source": [
        "!pip install tensorflow_addons\n",
        "import tensorflow_addons as tfa"
      ]
    },
    {
      "cell_type": "code",
      "execution_count": 7,
      "metadata": {
        "id": "QRYl0fP3JSbd"
      },
      "outputs": [],
      "source": [
        "# 데이터에 맞는 bertmodel 정의\n",
        "def create_sentiment_bert():\n",
        "\n",
        "  # 버트 pretrained 모델 로드\n",
        "  model = TFBertModel.from_pretrained(\"bert-base-multilingual-cased\", from_pt=True)\n",
        "\n",
        "  # 토큰 인풋, 마스크 인풋, 세그먼트 인풋 정의\n",
        "  token_inputs = tf.keras.layers.Input((SEQ_LEN,), dtype=tf.int32, name='input_word_ids')\n",
        "  mask_inputs = tf.keras.layers.Input((SEQ_LEN,), dtype=tf.int32, name='input_masks')\n",
        "  segment_inputs = tf.keras.layers.Input((SEQ_LEN,), dtype=tf.int32, name='input_segment')\n",
        "\n",
        "  # 인풋이 [토큰, 마스크, 세그먼트]인 모델 정의\n",
        "  bert_outputs = model([token_inputs, mask_inputs, segment_inputs])\n",
        "\n",
        "  bert_outputs = bert_outputs[1]\n",
        "  sentiment_first = tf.keras.layers.Dense(7, activation='softmax', kernel_initializer=tf.keras.initializers.TruncatedNormal(0.02))(bert_outputs)\n",
        "  sentiment_model = tf.keras.Model([token_inputs, mask_inputs, segment_inputs], sentiment_first)\n",
        "\n",
        "  # 옵티마이저는 간단하게 Adam 옵티마이저 활용\n",
        "  sentiment_model.compile(optimizer=tf.keras.optimizers.Adam(learning_rate=0.00001), loss=tf.keras.losses.SparseCategoricalCrossentropy(from_logits=False),\n",
        "      metrics=['sparse_categorical_accuracy'])\n",
        "  \n",
        "  return sentiment_model"
      ]
    },
    {
      "cell_type": "code",
      "execution_count": null,
      "metadata": {
        "id": "Z87Wvxu_yTaJ"
      },
      "outputs": [],
      "source": [
        "strategy = tf.distribute.experimental.TPUStrategy(resolver)\n",
        "# TPU를 활용하기 위해 context로 묶어주기\n",
        "with strategy.scope():\n",
        "  \n",
        "  sentiment_model = create_sentiment_bert()\n",
        "  sentiment_model.fit(train_x, train_y, epochs=3, shuffle=False, batch_size=20)\n",
        "  sentiment_model.save_weights(os.path.join('/content/drive/MyDrive/code_states/cp1',\"sentiment_model.h5\"))"
      ]
    },
    {
      "cell_type": "code",
      "execution_count": null,
      "metadata": {
        "id": "PPkCn1ovpq0s"
      },
      "outputs": [],
      "source": [
        ""
      ]
    },
    {
      "cell_type": "code",
      "execution_count": 186,
      "metadata": {
        "id": "kVzH2B4qfMJE"
      },
      "outputs": [],
      "source": [
        "def predict_convert_data(data_df):\n",
        "    global tokenizer\n",
        "    tokens, masks, segments = [], [], []\n",
        "    \n",
        "    for i in tqdm(range(len(data_df))):\n",
        "\n",
        "        token = tokenizer.encode(data_df[DATA_COLUMN][i], max_length=SEQ_LEN, truncation=True, padding='max_length')\n",
        "        num_zeros = token.count(0)\n",
        "        mask = [1]*(SEQ_LEN-num_zeros) + [0]*num_zeros\n",
        "        segment = [0]*SEQ_LEN\n",
        "\n",
        "        tokens.append(token)\n",
        "        segments.append(segment)\n",
        "        masks.append(mask)\n",
        "\n",
        "    tokens = np.array(tokens)\n",
        "    masks = np.array(masks)\n",
        "    segments = np.array(segments)\n",
        "    return [tokens, masks, segments]\n",
        "SEQ_LEN = 512\n",
        "DATA_COLUMN = 'data'\n",
        "# 위에 정의한 convert_data 함수를 불러오는 함수를 정의\n",
        "def predict_load_data(pandas_dataframe):\n",
        "    data_df = pandas_dataframe\n",
        "    data_df[DATA_COLUMN] = data_df[DATA_COLUMN].astype(str)\n",
        "    data_x = predict_convert_data(data_df)\n",
        "    return data_x"
      ]
    },
    {
      "cell_type": "code",
      "execution_count": 187,
      "metadata": {
        "colab": {
          "base_uri": "https://localhost:8080/"
        },
        "id": "W3Zpka8-fMLl",
        "outputId": "3b6dc77a-7e74-4366-bae7-92aeccd8cc54"
      },
      "outputs": [
        {
          "output_type": "stream",
          "name": "stderr",
          "text": [
            "100%|██████████| 16323/16323 [00:11<00:00, 1362.85it/s]\n"
          ]
        }
      ],
      "source": [
        "test_set = predict_load_data(test_set)"
      ]
    },
    {
      "cell_type": "code",
      "execution_count": null,
      "metadata": {
        "colab": {
          "base_uri": "https://localhost:8080/"
        },
        "id": "VNGvav5HbmCd",
        "outputId": "c55c7256-84b1-404c-93f7-754f64e923ce"
      },
      "outputs": [
        {
          "data": {
            "text/plain": [
              "[array([[  101,  9638, 91069, ...,     0,     0,     0],\n",
              "        [  101, 84253,  9739, ...,     0,     0,     0],\n",
              "        [  101,  9113, 48446, ...,     0,     0,     0],\n",
              "        ...,\n",
              "        [  101,  8996, 96404, ...,     0,     0,     0],\n",
              "        [  101, 66324, 11287, ...,     0,     0,     0],\n",
              "        [  101,  9420, 66540, ...,     0,     0,     0]]),\n",
              " array([[1, 1, 1, ..., 0, 0, 0],\n",
              "        [1, 1, 1, ..., 0, 0, 0],\n",
              "        [1, 1, 1, ..., 0, 0, 0],\n",
              "        ...,\n",
              "        [1, 1, 1, ..., 0, 0, 0],\n",
              "        [1, 1, 1, ..., 0, 0, 0],\n",
              "        [1, 1, 1, ..., 0, 0, 0]]),\n",
              " array([[0, 0, 0, ..., 0, 0, 0],\n",
              "        [0, 0, 0, ..., 0, 0, 0],\n",
              "        [0, 0, 0, ..., 0, 0, 0],\n",
              "        ...,\n",
              "        [0, 0, 0, ..., 0, 0, 0],\n",
              "        [0, 0, 0, ..., 0, 0, 0],\n",
              "        [0, 0, 0, ..., 0, 0, 0]])]"
            ]
          },
          "execution_count": 45,
          "metadata": {},
          "output_type": "execute_result"
        }
      ],
      "source": [
        "test_set"
      ]
    },
    {
      "cell_type": "code",
      "execution_count": 164,
      "metadata": {
        "id": "9aHVB6azX4bz"
      },
      "outputs": [],
      "source": [
        "path = \"/content/drive/MyDrive/code_states/cp1\"\n",
        "\n",
        "import shutil\n",
        "if \"bert\" not in os.listdir():\n",
        "  os.makedirs(\"bert\")\n",
        "else:\n",
        "  pass\n",
        "\n",
        "def copytree(src, dst, symlinks=False, ignore=None):\n",
        "    for item in os.listdir(src):\n",
        "        s = os.path.join(src, item)\n",
        "        d = os.path.join(dst, item)\n",
        "        if os.path.isdir(s):\n",
        "            shutil.copytree(s, d, symlinks, ignore)\n",
        "        else:\n",
        "            shutil.copy2(s, d)\n",
        "\n",
        "copytree(path, \"bert\")"
      ]
    },
    {
      "cell_type": "code",
      "execution_count": null,
      "metadata": {
        "id": "pJpOw_F5XigV"
      },
      "outputs": [],
      "source": [
        "import sys\n",
        "mod = sys.modules[__name__]\n",
        "# TPU를 활용하기 위해 context로 묶어주기\n",
        "strategy = tf.distribute.experimental.TPUStrategy(resolver)\n",
        "\n",
        "with strategy.scope():\n",
        "  sentiment_model = create_sentiment_bert()\n",
        "  \n",
        "  sentiment_model.load_weights(os.path.join(\"bert\", \"sentiment_model.h5\"))\n",
        "  setattr(mod, 'model', sentiment_model)\n",
        "  setattr(mod, 'pred_', sentiment_model.predict(test_set, batch_size=1))"
      ]
    },
    {
      "cell_type": "code",
      "source": [
        "# 정의한 모델 summary\n",
        "\n",
        "sentiment_model.summary()"
      ],
      "metadata": {
        "colab": {
          "base_uri": "https://localhost:8080/"
        },
        "id": "ZIu7-DhdctYW",
        "outputId": "22f2aedc-4f24-42a9-d9f4-99e5af36d0d5"
      },
      "execution_count": 13,
      "outputs": [
        {
          "output_type": "stream",
          "name": "stdout",
          "text": [
            "Model: \"model_2\"\n",
            "__________________________________________________________________________________________________\n",
            " Layer (type)                   Output Shape         Param #     Connected to                     \n",
            "==================================================================================================\n",
            " input_word_ids (InputLayer)    [(None, 512)]        0           []                               \n",
            "                                                                                                  \n",
            " input_masks (InputLayer)       [(None, 512)]        0           []                               \n",
            "                                                                                                  \n",
            " input_segment (InputLayer)     [(None, 512)]        0           []                               \n",
            "                                                                                                  \n",
            " tf_bert_model_3 (TFBertModel)  TFBaseModelOutputWi  177853440   ['input_word_ids[0][0]',         \n",
            "                                thPoolingAndCrossAt               'input_masks[0][0]',            \n",
            "                                tentions(last_hidde               'input_segment[0][0]']          \n",
            "                                n_state=(None, 512,                                               \n",
            "                                 768),                                                            \n",
            "                                 pooler_output=(Non                                               \n",
            "                                e, 768),                                                          \n",
            "                                 past_key_values=No                                               \n",
            "                                ne, hidden_states=N                                               \n",
            "                                one, attentions=Non                                               \n",
            "                                e, cross_attentions                                               \n",
            "                                =None)                                                            \n",
            "                                                                                                  \n",
            " dense_2 (Dense)                (None, 7)            5383        ['tf_bert_model_3[0][1]']        \n",
            "                                                                                                  \n",
            "==================================================================================================\n",
            "Total params: 177,858,823\n",
            "Trainable params: 177,858,823\n",
            "Non-trainable params: 0\n",
            "__________________________________________________________________________________________________\n"
          ]
        }
      ]
    },
    {
      "cell_type": "code",
      "execution_count": 166,
      "metadata": {
        "id": "cG8u7N008_R6"
      },
      "outputs": [],
      "source": [
        "# 분석 모델을 거쳐 나온 값들을\n",
        "# labeling에 사용하여\n",
        "# 각 label을 부여시켜주는 함수\n",
        "\n",
        "def mean_answer_label(*preds):\n",
        "  preds_sum = np.zeros(preds[0].shape[0])\n",
        "  for pred in preds:\n",
        "    preds_sum += np.argmax(pred, axis=-1)\n",
        "  return np.round(preds_sum/len(preds), 0).astype(int)"
      ]
    },
    {
      "cell_type": "code",
      "execution_count": 189,
      "metadata": {
        "id": "-KMPOJwB7GvF"
      },
      "outputs": [],
      "source": [
        "# test sentence를 bert model에 입력시킬 수 있는\n",
        "# 입력 형태로 변환시켜주는 함수\n",
        "def sentence_convert_data(data):\n",
        "    global tokenizer\n",
        "    \n",
        "    tokens, masks, segments = [], [], []\n",
        "    token = tokenizer.encode(data, max_length=SEQ_LEN, padding='max_length', truncation=True)\n",
        "    \n",
        "    num_zeros = token.count(0) \n",
        "    mask = [1]*(SEQ_LEN-num_zeros) + [0]*num_zeros \n",
        "    segment = [0]*SEQ_LEN\n",
        "\n",
        "    tokens.append(token)\n",
        "    segments.append(segment)\n",
        "    masks.append(mask)\n",
        "\n",
        "    tokens = np.array(tokens)\n",
        "    masks = np.array(masks)\n",
        "    segments = np.array(segments)\n",
        "    return [tokens, masks, segments]\n",
        "\n",
        "\n",
        "\n",
        "# 감성 분석 모델을 통해 label predict를 진행하는 함수\n",
        "def category_evaluation_predict(sentence):\n",
        "\n",
        "    global mod\n",
        "    data_x = sentence_convert_data(sentence)\n",
        "    \n",
        "    global strategy\n",
        "    with strategy.scope():\n",
        "      \n",
        "      setattr(mod, 'emo', model.predict(data_x, batch_size=1))\n",
        "\n",
        "    \n",
        "\n",
        "    preds = str(mean_answer_label(emo).item())\n",
        "    \n",
        "    return int(preds)"
      ]
    },
    {
      "cell_type": "code",
      "source": [
        "# 감성 label을 기입할 category 컬럼 추가\n",
        "\n",
        "review['category'] = -1"
      ],
      "metadata": {
        "id": "3IQn22Y7GpDN"
      },
      "execution_count": 190,
      "outputs": []
    },
    {
      "cell_type": "code",
      "source": [
        "# 사전학습 및 파인튜닝한 Bert 모델로 test data labeling 진행\n",
        "\n",
        "with strategy.scope():\n",
        "    for i in tqdm(range(len(review))):\n",
        "        review['category'][i] = category_evaluation_predict(review['rev_content'][i])"
      ],
      "metadata": {
        "colab": {
          "base_uri": "https://localhost:8080/"
        },
        "id": "WQs_C0ftF4sy",
        "outputId": "8afc908b-868b-4488-b362-8d89ca590691"
      },
      "execution_count": 191,
      "outputs": [
        {
          "output_type": "stream",
          "name": "stderr",
          "text": [
            "  0%|          | 0/16323 [00:00<?, ?it/s]/usr/local/lib/python3.7/dist-packages/ipykernel_launcher.py:3: SettingWithCopyWarning: \n",
            "A value is trying to be set on a copy of a slice from a DataFrame\n",
            "\n",
            "See the caveats in the documentation: https://pandas.pydata.org/pandas-docs/stable/user_guide/indexing.html#returning-a-view-versus-a-copy\n",
            "  This is separate from the ipykernel package so we can avoid doing imports until\n",
            "100%|██████████| 16323/16323 [3:30:19<00:00,  1.29it/s]\n"
          ]
        }
      ]
    },
    {
      "cell_type": "code",
      "execution_count": 192,
      "metadata": {
        "colab": {
          "base_uri": "https://localhost:8080/",
          "height": 423
        },
        "id": "-3F-0AkfpJMa",
        "outputId": "524b6940-20db-4a0b-fb06-8fe78c7f0ea2"
      },
      "outputs": [
        {
          "output_type": "execute_result",
          "data": {
            "text/plain": [
              "       index           isbn     user_id  score  \\\n",
              "0          0  9791191825435    gkxmzbsl     10   \n",
              "1          1  9791191825435          닉닉     10   \n",
              "2          2  9791191825435         zin     10   \n",
              "3          3  9791191825435       이쁜카라얌     10   \n",
              "4          4  9791191825435  feelingood     10   \n",
              "...      ...            ...         ...    ...   \n",
              "16318  17192  9791186561096  gksmfqor12     10   \n",
              "16319  17193  9791186561096        반가워요     10   \n",
              "16320  17194  9791186561096   Polnareff     10   \n",
              "16321  17195  9791186561096   0ijimin0i     10   \n",
              "16322  17196  9791186561096      아몬드빼빼로     10   \n",
              "\n",
              "                                             rev_content  category  \n",
              "0      이 전에 3,4권도 요리의 ‘요‘자도 알지못하던 저한테 있어서 빛과 같은 희망을 준...         0  \n",
              "1      이전 책들도 구입했는데, 집밥 먹을때는 거의 항상 디디미니님 레시피 따라하게 되더라...         5  \n",
              "2      드디어 나왔나요!!!바로 주문합니다!!! 책 잘 보고 다이어트 도전 해볼께요!!! ...         0  \n",
              "3      요 앞 버젼 사려다가 최신간으로 구매 했어요다이어트를 해도 점점 찌는 나 드디어 굴...         0  \n",
              "4      디디미니 언니 레시피 언제나 믿고 만들어먹어요~ 이번 책엔 또 어떤 맛있는 레시피가...         5  \n",
              "...                                                  ...       ...  \n",
              "16318                              여행을 하면 남는건 사진밖에 없다고..         0  \n",
              "16319                                저도 떠나보고 싶게끔 만드네요 ^^         3  \n",
              "16320                                  20대만의 재기발랄함이 멋지네요         5  \n",
              "16321  유럽 여행을 해보지는 못했지만 이책으로 인해 유럽에 대해더 자세히 알 수 있어서 너...         5  \n",
              "16322  그녀를 통해 알게된 유럽의 곳곳들.자유로운 그녀의 삶이 부럽기도 하네요.저도 지금 ...         3  \n",
              "\n",
              "[16323 rows x 6 columns]"
            ],
            "text/html": [
              "\n",
              "  <div id=\"df-7516aa8f-6568-48ff-b8c1-1cef7a83eea0\">\n",
              "    <div class=\"colab-df-container\">\n",
              "      <div>\n",
              "<style scoped>\n",
              "    .dataframe tbody tr th:only-of-type {\n",
              "        vertical-align: middle;\n",
              "    }\n",
              "\n",
              "    .dataframe tbody tr th {\n",
              "        vertical-align: top;\n",
              "    }\n",
              "\n",
              "    .dataframe thead th {\n",
              "        text-align: right;\n",
              "    }\n",
              "</style>\n",
              "<table border=\"1\" class=\"dataframe\">\n",
              "  <thead>\n",
              "    <tr style=\"text-align: right;\">\n",
              "      <th></th>\n",
              "      <th>index</th>\n",
              "      <th>isbn</th>\n",
              "      <th>user_id</th>\n",
              "      <th>score</th>\n",
              "      <th>rev_content</th>\n",
              "      <th>category</th>\n",
              "    </tr>\n",
              "  </thead>\n",
              "  <tbody>\n",
              "    <tr>\n",
              "      <th>0</th>\n",
              "      <td>0</td>\n",
              "      <td>9791191825435</td>\n",
              "      <td>gkxmzbsl</td>\n",
              "      <td>10</td>\n",
              "      <td>이 전에 3,4권도 요리의 ‘요‘자도 알지못하던 저한테 있어서 빛과 같은 희망을 준...</td>\n",
              "      <td>0</td>\n",
              "    </tr>\n",
              "    <tr>\n",
              "      <th>1</th>\n",
              "      <td>1</td>\n",
              "      <td>9791191825435</td>\n",
              "      <td>닉닉</td>\n",
              "      <td>10</td>\n",
              "      <td>이전 책들도 구입했는데, 집밥 먹을때는 거의 항상 디디미니님 레시피 따라하게 되더라...</td>\n",
              "      <td>5</td>\n",
              "    </tr>\n",
              "    <tr>\n",
              "      <th>2</th>\n",
              "      <td>2</td>\n",
              "      <td>9791191825435</td>\n",
              "      <td>zin</td>\n",
              "      <td>10</td>\n",
              "      <td>드디어 나왔나요!!!바로 주문합니다!!! 책 잘 보고 다이어트 도전 해볼께요!!! ...</td>\n",
              "      <td>0</td>\n",
              "    </tr>\n",
              "    <tr>\n",
              "      <th>3</th>\n",
              "      <td>3</td>\n",
              "      <td>9791191825435</td>\n",
              "      <td>이쁜카라얌</td>\n",
              "      <td>10</td>\n",
              "      <td>요 앞 버젼 사려다가 최신간으로 구매 했어요다이어트를 해도 점점 찌는 나 드디어 굴...</td>\n",
              "      <td>0</td>\n",
              "    </tr>\n",
              "    <tr>\n",
              "      <th>4</th>\n",
              "      <td>4</td>\n",
              "      <td>9791191825435</td>\n",
              "      <td>feelingood</td>\n",
              "      <td>10</td>\n",
              "      <td>디디미니 언니 레시피 언제나 믿고 만들어먹어요~ 이번 책엔 또 어떤 맛있는 레시피가...</td>\n",
              "      <td>5</td>\n",
              "    </tr>\n",
              "    <tr>\n",
              "      <th>...</th>\n",
              "      <td>...</td>\n",
              "      <td>...</td>\n",
              "      <td>...</td>\n",
              "      <td>...</td>\n",
              "      <td>...</td>\n",
              "      <td>...</td>\n",
              "    </tr>\n",
              "    <tr>\n",
              "      <th>16318</th>\n",
              "      <td>17192</td>\n",
              "      <td>9791186561096</td>\n",
              "      <td>gksmfqor12</td>\n",
              "      <td>10</td>\n",
              "      <td>여행을 하면 남는건 사진밖에 없다고..</td>\n",
              "      <td>0</td>\n",
              "    </tr>\n",
              "    <tr>\n",
              "      <th>16319</th>\n",
              "      <td>17193</td>\n",
              "      <td>9791186561096</td>\n",
              "      <td>반가워요</td>\n",
              "      <td>10</td>\n",
              "      <td>저도 떠나보고 싶게끔 만드네요 ^^</td>\n",
              "      <td>3</td>\n",
              "    </tr>\n",
              "    <tr>\n",
              "      <th>16320</th>\n",
              "      <td>17194</td>\n",
              "      <td>9791186561096</td>\n",
              "      <td>Polnareff</td>\n",
              "      <td>10</td>\n",
              "      <td>20대만의 재기발랄함이 멋지네요</td>\n",
              "      <td>5</td>\n",
              "    </tr>\n",
              "    <tr>\n",
              "      <th>16321</th>\n",
              "      <td>17195</td>\n",
              "      <td>9791186561096</td>\n",
              "      <td>0ijimin0i</td>\n",
              "      <td>10</td>\n",
              "      <td>유럽 여행을 해보지는 못했지만 이책으로 인해 유럽에 대해더 자세히 알 수 있어서 너...</td>\n",
              "      <td>5</td>\n",
              "    </tr>\n",
              "    <tr>\n",
              "      <th>16322</th>\n",
              "      <td>17196</td>\n",
              "      <td>9791186561096</td>\n",
              "      <td>아몬드빼빼로</td>\n",
              "      <td>10</td>\n",
              "      <td>그녀를 통해 알게된 유럽의 곳곳들.자유로운 그녀의 삶이 부럽기도 하네요.저도 지금 ...</td>\n",
              "      <td>3</td>\n",
              "    </tr>\n",
              "  </tbody>\n",
              "</table>\n",
              "<p>16323 rows × 6 columns</p>\n",
              "</div>\n",
              "      <button class=\"colab-df-convert\" onclick=\"convertToInteractive('df-7516aa8f-6568-48ff-b8c1-1cef7a83eea0')\"\n",
              "              title=\"Convert this dataframe to an interactive table.\"\n",
              "              style=\"display:none;\">\n",
              "        \n",
              "  <svg xmlns=\"http://www.w3.org/2000/svg\" height=\"24px\"viewBox=\"0 0 24 24\"\n",
              "       width=\"24px\">\n",
              "    <path d=\"M0 0h24v24H0V0z\" fill=\"none\"/>\n",
              "    <path d=\"M18.56 5.44l.94 2.06.94-2.06 2.06-.94-2.06-.94-.94-2.06-.94 2.06-2.06.94zm-11 1L8.5 8.5l.94-2.06 2.06-.94-2.06-.94L8.5 2.5l-.94 2.06-2.06.94zm10 10l.94 2.06.94-2.06 2.06-.94-2.06-.94-.94-2.06-.94 2.06-2.06.94z\"/><path d=\"M17.41 7.96l-1.37-1.37c-.4-.4-.92-.59-1.43-.59-.52 0-1.04.2-1.43.59L10.3 9.45l-7.72 7.72c-.78.78-.78 2.05 0 2.83L4 21.41c.39.39.9.59 1.41.59.51 0 1.02-.2 1.41-.59l7.78-7.78 2.81-2.81c.8-.78.8-2.07 0-2.86zM5.41 20L4 18.59l7.72-7.72 1.47 1.35L5.41 20z\"/>\n",
              "  </svg>\n",
              "      </button>\n",
              "      \n",
              "  <style>\n",
              "    .colab-df-container {\n",
              "      display:flex;\n",
              "      flex-wrap:wrap;\n",
              "      gap: 12px;\n",
              "    }\n",
              "\n",
              "    .colab-df-convert {\n",
              "      background-color: #E8F0FE;\n",
              "      border: none;\n",
              "      border-radius: 50%;\n",
              "      cursor: pointer;\n",
              "      display: none;\n",
              "      fill: #1967D2;\n",
              "      height: 32px;\n",
              "      padding: 0 0 0 0;\n",
              "      width: 32px;\n",
              "    }\n",
              "\n",
              "    .colab-df-convert:hover {\n",
              "      background-color: #E2EBFA;\n",
              "      box-shadow: 0px 1px 2px rgba(60, 64, 67, 0.3), 0px 1px 3px 1px rgba(60, 64, 67, 0.15);\n",
              "      fill: #174EA6;\n",
              "    }\n",
              "\n",
              "    [theme=dark] .colab-df-convert {\n",
              "      background-color: #3B4455;\n",
              "      fill: #D2E3FC;\n",
              "    }\n",
              "\n",
              "    [theme=dark] .colab-df-convert:hover {\n",
              "      background-color: #434B5C;\n",
              "      box-shadow: 0px 1px 3px 1px rgba(0, 0, 0, 0.15);\n",
              "      filter: drop-shadow(0px 1px 2px rgba(0, 0, 0, 0.3));\n",
              "      fill: #FFFFFF;\n",
              "    }\n",
              "  </style>\n",
              "\n",
              "      <script>\n",
              "        const buttonEl =\n",
              "          document.querySelector('#df-7516aa8f-6568-48ff-b8c1-1cef7a83eea0 button.colab-df-convert');\n",
              "        buttonEl.style.display =\n",
              "          google.colab.kernel.accessAllowed ? 'block' : 'none';\n",
              "\n",
              "        async function convertToInteractive(key) {\n",
              "          const element = document.querySelector('#df-7516aa8f-6568-48ff-b8c1-1cef7a83eea0');\n",
              "          const dataTable =\n",
              "            await google.colab.kernel.invokeFunction('convertToInteractive',\n",
              "                                                     [key], {});\n",
              "          if (!dataTable) return;\n",
              "\n",
              "          const docLinkHtml = 'Like what you see? Visit the ' +\n",
              "            '<a target=\"_blank\" href=https://colab.research.google.com/notebooks/data_table.ipynb>data table notebook</a>'\n",
              "            + ' to learn more about interactive tables.';\n",
              "          element.innerHTML = '';\n",
              "          dataTable['output_type'] = 'display_data';\n",
              "          await google.colab.output.renderOutput(dataTable, element);\n",
              "          const docLink = document.createElement('div');\n",
              "          docLink.innerHTML = docLinkHtml;\n",
              "          element.appendChild(docLink);\n",
              "        }\n",
              "      </script>\n",
              "    </div>\n",
              "  </div>\n",
              "  "
            ]
          },
          "metadata": {},
          "execution_count": 192
        }
      ],
      "source": [
        "review"
      ]
    },
    {
      "cell_type": "code",
      "execution_count": 196,
      "metadata": {
        "colab": {
          "base_uri": "https://localhost:8080/"
        },
        "id": "kCZuElF9ptWk",
        "outputId": "0a03ffc5-5546-497b-8170-a76263b03984"
      },
      "outputs": [
        {
          "output_type": "execute_result",
          "data": {
            "text/plain": [
              "5    6437\n",
              "0    3305\n",
              "4    2731\n",
              "3    2414\n",
              "1    1045\n",
              "6     270\n",
              "2     121\n",
              "Name: category, dtype: int64"
            ]
          },
          "metadata": {},
          "execution_count": 196
        }
      ],
      "source": [
        "# label 분포 확인\n",
        "\n",
        "review['category'].value_counts()"
      ]
    },
    {
      "cell_type": "code",
      "source": [
        "# 감성 분석을 통해 review 감성을 분류한 category 컬럼 추가된 csv 파일 추출\n",
        "\n",
        "review.to_csv('/content/drive/MyDrive/code_states/cp1/review_table_after.csv')"
      ],
      "metadata": {
        "id": "jKy81H-_MVnZ"
      },
      "execution_count": 195,
      "outputs": []
    }
  ],
  "metadata": {
    "accelerator": "TPU",
    "colab": {
      "collapsed_sections": [],
      "machine_shape": "hm",
      "name": "\bCP1_project_1.ipynb",
      "provenance": []
    },
    "gpuClass": "standard",
    "kernelspec": {
      "display_name": "Python 3",
      "name": "python3"
    },
    "language_info": {
      "name": "python"
    }
  },
  "nbformat": 4,
  "nbformat_minor": 0
}